{
 "cells": [
  {
   "cell_type": "markdown",
   "id": "74aa3d30-f9f7-4eff-b45e-2bec35783a3c",
   "metadata": {},
   "source": [
    "# Stock Prediction w/scikit learn"
   ]
  },
  {
   "cell_type": "markdown",
   "id": "e771d3c3-4304-4d18-aa08-9c8d79fdf24e",
   "metadata": {},
   "source": [
    "#### https://enlight.nyc/projects/stock-market-prediction"
   ]
  },
  {
   "cell_type": "code",
   "execution_count": 16,
   "id": "cfab5e0a-5d79-4ae2-b2f6-9c5553bf7341",
   "metadata": {},
   "outputs": [],
   "source": [
    "import pandas as pd\n",
    "import numpy as np\n",
    "import datetime\n",
    "import matplotlib.pyplot as plt\n",
    "\n",
    "# import quandl\n",
    "\n",
    "from sklearn.linear_model import LinearRegression\n",
    "from sklearn import preprocessing, svm\n",
    "from sklearn.model_selection import train_test_split"
   ]
  },
  {
   "cell_type": "code",
   "execution_count": 3,
   "id": "188ba27c-5733-4535-a8ee-940c9f4e038a",
   "metadata": {},
   "outputs": [],
   "source": [
    "# df = pd.read_csv('data/MUFG-orig.csv')\n",
    "df = pd.read_csv('data/IBM.csv')"
   ]
  },
  {
   "cell_type": "code",
   "execution_count": 4,
   "id": "62fba0c1-4ec6-4356-9eea-ea06d9181e1b",
   "metadata": {},
   "outputs": [
    {
     "data": {
      "text/html": [
       "<div>\n",
       "<style scoped>\n",
       "    .dataframe tbody tr th:only-of-type {\n",
       "        vertical-align: middle;\n",
       "    }\n",
       "\n",
       "    .dataframe tbody tr th {\n",
       "        vertical-align: top;\n",
       "    }\n",
       "\n",
       "    .dataframe thead th {\n",
       "        text-align: right;\n",
       "    }\n",
       "</style>\n",
       "<table border=\"1\" class=\"dataframe\">\n",
       "  <thead>\n",
       "    <tr style=\"text-align: right;\">\n",
       "      <th></th>\n",
       "      <th>Date</th>\n",
       "      <th>Open</th>\n",
       "      <th>High</th>\n",
       "      <th>Low</th>\n",
       "      <th>Close</th>\n",
       "      <th>Adj Close</th>\n",
       "      <th>Volume</th>\n",
       "    </tr>\n",
       "  </thead>\n",
       "  <tbody>\n",
       "    <tr>\n",
       "      <th>0</th>\n",
       "      <td>1962-01-02</td>\n",
       "      <td>7.374124</td>\n",
       "      <td>7.374124</td>\n",
       "      <td>7.291268</td>\n",
       "      <td>7.291268</td>\n",
       "      <td>1.591517</td>\n",
       "      <td>407940</td>\n",
       "    </tr>\n",
       "    <tr>\n",
       "      <th>1</th>\n",
       "      <td>1962-01-03</td>\n",
       "      <td>7.291268</td>\n",
       "      <td>7.355003</td>\n",
       "      <td>7.291268</td>\n",
       "      <td>7.355003</td>\n",
       "      <td>1.605428</td>\n",
       "      <td>305955</td>\n",
       "    </tr>\n",
       "    <tr>\n",
       "      <th>2</th>\n",
       "      <td>1962-01-04</td>\n",
       "      <td>7.355003</td>\n",
       "      <td>7.355003</td>\n",
       "      <td>7.278521</td>\n",
       "      <td>7.281708</td>\n",
       "      <td>1.589431</td>\n",
       "      <td>274575</td>\n",
       "    </tr>\n",
       "    <tr>\n",
       "      <th>3</th>\n",
       "      <td>1962-01-05</td>\n",
       "      <td>7.272148</td>\n",
       "      <td>7.272148</td>\n",
       "      <td>7.125558</td>\n",
       "      <td>7.138305</td>\n",
       "      <td>1.558129</td>\n",
       "      <td>384405</td>\n",
       "    </tr>\n",
       "    <tr>\n",
       "      <th>4</th>\n",
       "      <td>1962-01-08</td>\n",
       "      <td>7.131931</td>\n",
       "      <td>7.131931</td>\n",
       "      <td>6.947100</td>\n",
       "      <td>7.004461</td>\n",
       "      <td>1.528913</td>\n",
       "      <td>572685</td>\n",
       "    </tr>\n",
       "  </tbody>\n",
       "</table>\n",
       "</div>"
      ],
      "text/plain": [
       "         Date      Open      High       Low     Close  Adj Close  Volume\n",
       "0  1962-01-02  7.374124  7.374124  7.291268  7.291268   1.591517  407940\n",
       "1  1962-01-03  7.291268  7.355003  7.291268  7.355003   1.605428  305955\n",
       "2  1962-01-04  7.355003  7.355003  7.278521  7.281708   1.589431  274575\n",
       "3  1962-01-05  7.272148  7.272148  7.125558  7.138305   1.558129  384405\n",
       "4  1962-01-08  7.131931  7.131931  6.947100  7.004461   1.528913  572685"
      ]
     },
     "execution_count": 4,
     "metadata": {},
     "output_type": "execute_result"
    }
   ],
   "source": [
    "df.head()"
   ]
  },
  {
   "cell_type": "code",
   "execution_count": 5,
   "id": "b191c07c-175a-4961-87ef-d1a1ec0bcad4",
   "metadata": {},
   "outputs": [],
   "source": [
    "df = df[['Adj Close']]"
   ]
  },
  {
   "cell_type": "code",
   "execution_count": 6,
   "id": "17e82f5a-3792-4452-a366-8a3e908c429b",
   "metadata": {},
   "outputs": [],
   "source": [
    "forecast_out = int(30) # predicting 30 days into future\n",
    "df['Prediction'] = df[['Adj Close']].shift(-forecast_out) #  label column with data shifted 30 units up"
   ]
  },
  {
   "cell_type": "code",
   "execution_count": 35,
   "id": "09252ede-3ef3-42ee-975e-04deb095b79b",
   "metadata": {},
   "outputs": [
    {
     "name": "stderr",
     "output_type": "stream",
     "text": [
      "/tmp/ipykernel_241/1372015310.py:1: FutureWarning: In a future version of pandas all arguments of DataFrame.drop except for the argument 'labels' will be keyword-only.\n",
      "  X = np.array(df.drop(['Prediction'], 1))\n"
     ]
    }
   ],
   "source": [
    "X = np.array(df.drop(['Prediction'], 1))\n",
    "X_raw = X\n",
    "X = preprocessing.scale(X)"
   ]
  },
  {
   "cell_type": "markdown",
   "id": "c6c7974c-da86-4899-959b-bb756ecd6ef4",
   "metadata": {},
   "source": [
    "### Set a new input variable to these days and remove them from the X array."
   ]
  },
  {
   "cell_type": "code",
   "execution_count": 36,
   "id": "c44b9195-3eed-4dde-8a55-c2fcd3d57b83",
   "metadata": {},
   "outputs": [],
   "source": [
    "X_forecast = X[-forecast_out:] # set X_forecast equal to last 30\n",
    "X = X[:-forecast_out] # remove last 30 from X"
   ]
  },
  {
   "cell_type": "markdown",
   "id": "96e6bfd7-e38b-4039-a445-ef70d86395ff",
   "metadata": {},
   "source": [
    "### To define our y, or output, we will set it equal to our array of the Prediction values and remove the last 30 days where we don’t have any pricing data."
   ]
  },
  {
   "cell_type": "code",
   "execution_count": 37,
   "id": "db191842-1846-4206-bafb-3f1f452a118f",
   "metadata": {},
   "outputs": [],
   "source": [
    "y = np.array(df['Prediction'])\n",
    "y = y[:-forecast_out]"
   ]
  },
  {
   "cell_type": "markdown",
   "id": "b6e1df17-660f-4318-a8af-e806238bd737",
   "metadata": {},
   "source": [
    "## Linear regression model"
   ]
  },
  {
   "cell_type": "markdown",
   "id": "6dea64af-028b-40c1-8c0a-f098717438b7",
   "metadata": {},
   "source": [
    "### Split the data into training and test sets."
   ]
  },
  {
   "cell_type": "code",
   "execution_count": 38,
   "id": "733aec0c-30e5-4ec9-87c1-2e935d530fba",
   "metadata": {},
   "outputs": [],
   "source": [
    "X_train, X_test, y_train, y_test = train_test_split(X, y, test_size = 0.2)"
   ]
  },
  {
   "cell_type": "code",
   "execution_count": 39,
   "id": "860835b4-8038-4f9c-8384-0461c7e16a1f",
   "metadata": {},
   "outputs": [
    {
     "name": "stdout",
     "output_type": "stream",
     "text": [
      "confidence:  0.989833955026448\n"
     ]
    }
   ],
   "source": [
    "# Training\n",
    "clf = LinearRegression()\n",
    "clf.fit(X_train,y_train)\n",
    "# Testing\n",
    "confidence = clf.score(X_test, y_test)\n",
    "print(\"confidence: \", confidence)"
   ]
  },
  {
   "cell_type": "code",
   "execution_count": 49,
   "id": "221ed16e-b5d2-49c9-86d1-4e3d42de272e",
   "metadata": {},
   "outputs": [],
   "source": [
    "from skl2onnx import convert_sklearn\n",
    "from skl2onnx.common.data_types import FloatTensorType\n",
    "initial_type = [('float_input', FloatTensorType([1]))]\n",
    "onx = convert_sklearn(clf, initial_types=initial_type)\n",
    "with open(\"stocks.onnx\", \"wb\") as f:\n",
    "    f.write(onx.SerializeToString())"
   ]
  },
  {
   "cell_type": "code",
   "execution_count": 40,
   "id": "05c06646-25e1-417b-8b6e-3865591569e3",
   "metadata": {},
   "outputs": [
    {
     "name": "stdout",
     "output_type": "stream",
     "text": [
      "[124.22041658 124.18105232 125.28330643 124.73217987 124.41724885\n",
      " 123.50198694 121.81908408 120.95302551 122.01591635 121.76987876\n",
      " 121.20125476 122.04919142 120.93191385 122.86720086 123.38594418\n",
      " 123.48569955 125.7302404  126.16917582 127.27648264 127.51589833\n",
      " 128.19424147 125.70031418 126.77769578 128.90252479 129.49109028\n",
      " 128.60324968 129.83027632 132.42395898 132.64342619 132.69330787]\n"
     ]
    }
   ],
   "source": [
    "forecast_prediction = clf.predict(X_forecast)\n",
    "print(forecast_prediction)"
   ]
  },
  {
   "cell_type": "code",
   "execution_count": 44,
   "id": "4230fedb-60f7-450f-b6ea-0ea46895c5a3",
   "metadata": {},
   "outputs": [
    {
     "data": {
      "text/plain": [
       "array([[  1.591517],\n",
       "       [  1.605428],\n",
       "       [  1.589431],\n",
       "       ...,\n",
       "       [126.327454],\n",
       "       [124.462875],\n",
       "       [123.762421]])"
      ]
     },
     "execution_count": 44,
     "metadata": {},
     "output_type": "execute_result"
    }
   ],
   "source": [
    "X_forecast_raw = X_raw[-forecast_out:]\n",
    "X_raw = X_raw[:-forecast_out]\n",
    "X_raw"
   ]
  },
  {
   "cell_type": "code",
   "execution_count": 42,
   "id": "bd3ed211-c009-4f49-8366-f6397c2657f5",
   "metadata": {},
   "outputs": [
    {
     "data": {
      "text/plain": [
       "array([124.22041658, 124.18105232, 125.28330643, 124.73217987,\n",
       "       124.41724885, 123.50198694, 121.81908408, 120.95302551,\n",
       "       122.01591635, 121.76987876, 121.20125476, 122.04919142,\n",
       "       120.93191385, 122.86720086, 123.38594418, 123.48569955,\n",
       "       125.7302404 , 126.16917582, 127.27648264, 127.51589833,\n",
       "       128.19424147, 125.70031418, 126.77769578, 128.90252479,\n",
       "       129.49109028, 128.60324968, 129.83027632, 132.42395898,\n",
       "       132.64342619, 132.69330787])"
      ]
     },
     "execution_count": 42,
     "metadata": {},
     "output_type": "execute_result"
    }
   ],
   "source": [
    "clf.predict(X_forecast)"
   ]
  },
  {
   "cell_type": "code",
   "execution_count": 45,
   "id": "e61b3edb-03c4-4280-a185-96c718935a5f",
   "metadata": {},
   "outputs": [
    {
     "data": {
      "image/png": "[encoded data removed]",
      "text/plain": [
       "<Figure size 1000x600 with 1 Axes>"
      ]
     },
     "metadata": {},
     "output_type": "display_data"
    }
   ],
   "source": [
    "plt.figure(figsize=(10,6))  \n",
    "plt.plot(X_forecast_raw, color='blue', label='Actual Stock Price')  \n",
    "plt.plot(forecast_prediction , color='red', label='Predicted Stock Price')  \n",
    "plt.title('Stock Price Prediction')  \n",
    "plt.xlabel('Date')  \n",
    "plt.ylabel('Stock Price')  \n",
    "plt.legend()  \n",
    "plt.show()  "
   ]
  },
  {
   "cell_type": "code",
   "execution_count": null,
   "id": "bfec7786-c7ba-41ab-bb30-ce2ec6061774",
   "metadata": {},
   "outputs": [],
   "source": []
  }
 ],
 "metadata": {
  "kernelspec": {
   "display_name": "Python 3.9.16",
   "language": "python",
   "name": "python3"
  },
  "language_info": {
   "codemirror_mode": {
    "name": "ipython",
    "version": 3
   },
   "file_extension": ".py",
   "mimetype": "text/x-python",
   "name": "python",
   "nbconvert_exporter": "python",
   "pygments_lexer": "ipython3",
   "version": "3.9.16"
  }
 },
 "nbformat": 4,
 "nbformat_minor": 5
}
