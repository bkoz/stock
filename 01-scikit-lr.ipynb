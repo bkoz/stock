{
 "cells": [
  {
   "cell_type": "markdown",
   "id": "74aa3d30-f9f7-4eff-b45e-2bec35783a3c",
   "metadata": {},
   "source": [
    "# Stock Prediction w/scikit learn"
   ]
  },
  {
   "cell_type": "markdown",
   "id": "e771d3c3-4304-4d18-aa08-9c8d79fdf24e",
   "metadata": {},
   "source": [
    "#### https://enlight.nyc/projects/stock-market-prediction"
   ]
  },
  {
   "cell_type": "code",
   "execution_count": 25,
   "id": "cfab5e0a-5d79-4ae2-b2f6-9c5553bf7341",
   "metadata": {},
   "outputs": [],
   "source": [
    "import pandas as pd\n",
    "import numpy as np\n",
    "import datetime\n",
    "import quandl\n",
    "\n",
    "from sklearn.linear_model import LinearRegression\n",
    "from sklearn import preprocessing, svm\n",
    "from sklearn.model_selection import train_test_split"
   ]
  },
  {
   "cell_type": "code",
   "execution_count": 28,
   "id": "188ba27c-5733-4535-a8ee-940c9f4e038a",
   "metadata": {},
   "outputs": [],
   "source": [
    "# df = pd.read_csv('data/MUFG-orig.csv')\n",
    "df = pd.read_csv('data/IBM.csv')"
   ]
  },
  {
   "cell_type": "code",
   "execution_count": 29,
   "id": "62fba0c1-4ec6-4356-9eea-ea06d9181e1b",
   "metadata": {},
   "outputs": [
    {
     "data": {
      "text/html": [
       "<div>\n",
       "<style scoped>\n",
       "    .dataframe tbody tr th:only-of-type {\n",
       "        vertical-align: middle;\n",
       "    }\n",
       "\n",
       "    .dataframe tbody tr th {\n",
       "        vertical-align: top;\n",
       "    }\n",
       "\n",
       "    .dataframe thead th {\n",
       "        text-align: right;\n",
       "    }\n",
       "</style>\n",
       "<table border=\"1\" class=\"dataframe\">\n",
       "  <thead>\n",
       "    <tr style=\"text-align: right;\">\n",
       "      <th></th>\n",
       "      <th>Date</th>\n",
       "      <th>Open</th>\n",
       "      <th>High</th>\n",
       "      <th>Low</th>\n",
       "      <th>Close</th>\n",
       "      <th>Adj Close</th>\n",
       "      <th>Volume</th>\n",
       "    </tr>\n",
       "  </thead>\n",
       "  <tbody>\n",
       "    <tr>\n",
       "      <th>0</th>\n",
       "      <td>1962-01-02</td>\n",
       "      <td>7.374124</td>\n",
       "      <td>7.374124</td>\n",
       "      <td>7.291268</td>\n",
       "      <td>7.291268</td>\n",
       "      <td>1.591517</td>\n",
       "      <td>407940</td>\n",
       "    </tr>\n",
       "    <tr>\n",
       "      <th>1</th>\n",
       "      <td>1962-01-03</td>\n",
       "      <td>7.291268</td>\n",
       "      <td>7.355003</td>\n",
       "      <td>7.291268</td>\n",
       "      <td>7.355003</td>\n",
       "      <td>1.605428</td>\n",
       "      <td>305955</td>\n",
       "    </tr>\n",
       "    <tr>\n",
       "      <th>2</th>\n",
       "      <td>1962-01-04</td>\n",
       "      <td>7.355003</td>\n",
       "      <td>7.355003</td>\n",
       "      <td>7.278521</td>\n",
       "      <td>7.281708</td>\n",
       "      <td>1.589431</td>\n",
       "      <td>274575</td>\n",
       "    </tr>\n",
       "    <tr>\n",
       "      <th>3</th>\n",
       "      <td>1962-01-05</td>\n",
       "      <td>7.272148</td>\n",
       "      <td>7.272148</td>\n",
       "      <td>7.125558</td>\n",
       "      <td>7.138305</td>\n",
       "      <td>1.558129</td>\n",
       "      <td>384405</td>\n",
       "    </tr>\n",
       "    <tr>\n",
       "      <th>4</th>\n",
       "      <td>1962-01-08</td>\n",
       "      <td>7.131931</td>\n",
       "      <td>7.131931</td>\n",
       "      <td>6.947100</td>\n",
       "      <td>7.004461</td>\n",
       "      <td>1.528913</td>\n",
       "      <td>572685</td>\n",
       "    </tr>\n",
       "  </tbody>\n",
       "</table>\n",
       "</div>"
      ],
      "text/plain": [
       "         Date      Open      High       Low     Close  Adj Close  Volume\n",
       "0  1962-01-02  7.374124  7.374124  7.291268  7.291268   1.591517  407940\n",
       "1  1962-01-03  7.291268  7.355003  7.291268  7.355003   1.605428  305955\n",
       "2  1962-01-04  7.355003  7.355003  7.278521  7.281708   1.589431  274575\n",
       "3  1962-01-05  7.272148  7.272148  7.125558  7.138305   1.558129  384405\n",
       "4  1962-01-08  7.131931  7.131931  6.947100  7.004461   1.528913  572685"
      ]
     },
     "execution_count": 29,
     "metadata": {},
     "output_type": "execute_result"
    }
   ],
   "source": [
    "df.head()"
   ]
  },
  {
   "cell_type": "code",
   "execution_count": 30,
   "id": "b191c07c-175a-4961-87ef-d1a1ec0bcad4",
   "metadata": {},
   "outputs": [],
   "source": [
    "df = df[['Adj Close']]"
   ]
  },
  {
   "cell_type": "code",
   "execution_count": 31,
   "id": "17e82f5a-3792-4452-a366-8a3e908c429b",
   "metadata": {},
   "outputs": [],
   "source": [
    "forecast_out = int(30) # predicting 30 days into future\n",
    "df['Prediction'] = df[['Adj Close']].shift(-forecast_out) #  label column with data shifted 30 units up"
   ]
  },
  {
   "cell_type": "code",
   "execution_count": 33,
   "id": "09252ede-3ef3-42ee-975e-04deb095b79b",
   "metadata": {},
   "outputs": [
    {
     "name": "stderr",
     "output_type": "stream",
     "text": [
      "/tmp/ipykernel_133/3918799790.py:1: FutureWarning: In a future version of pandas all arguments of DataFrame.drop except for the argument 'labels' will be keyword-only.\n",
      "  X = np.array(df.drop(['Prediction'], 1))\n"
     ]
    }
   ],
   "source": [
    "X = np.array(df.drop(['Prediction'], 1))\n",
    "X = preprocessing.scale(X)"
   ]
  },
  {
   "cell_type": "markdown",
   "id": "c6c7974c-da86-4899-959b-bb756ecd6ef4",
   "metadata": {},
   "source": [
    "### Set a new input variable to these days and remove them from the X array."
   ]
  },
  {
   "cell_type": "code",
   "execution_count": 34,
   "id": "c44b9195-3eed-4dde-8a55-c2fcd3d57b83",
   "metadata": {},
   "outputs": [],
   "source": [
    "X_forecast = X[-forecast_out:] # set X_forecast equal to last 30\n",
    "X = X[:-forecast_out] # remove last 30 from X"
   ]
  },
  {
   "cell_type": "markdown",
   "id": "96e6bfd7-e38b-4039-a445-ef70d86395ff",
   "metadata": {},
   "source": [
    "### To define our y, or output, we will set it equal to our array of the Prediction values and remove the last 30 days where we don’t have any pricing data."
   ]
  },
  {
   "cell_type": "code",
   "execution_count": 35,
   "id": "db191842-1846-4206-bafb-3f1f452a118f",
   "metadata": {},
   "outputs": [],
   "source": [
    "y = np.array(df['Prediction'])\n",
    "y = y[:-forecast_out]"
   ]
  },
  {
   "cell_type": "markdown",
   "id": "b6e1df17-660f-4318-a8af-e806238bd737",
   "metadata": {},
   "source": [
    "## Linear regression model"
   ]
  },
  {
   "cell_type": "markdown",
   "id": "6dea64af-028b-40c1-8c0a-f098717438b7",
   "metadata": {},
   "source": [
    "### Split the data into training and test sets."
   ]
  },
  {
   "cell_type": "code",
   "execution_count": 36,
   "id": "733aec0c-30e5-4ec9-87c1-2e935d530fba",
   "metadata": {},
   "outputs": [],
   "source": [
    "X_train, X_test, y_train, y_test = train_test_split(X, y, test_size = 0.2)"
   ]
  },
  {
   "cell_type": "code",
   "execution_count": 37,
   "id": "860835b4-8038-4f9c-8384-0461c7e16a1f",
   "metadata": {},
   "outputs": [
    {
     "name": "stdout",
     "output_type": "stream",
     "text": [
      "confidence:  0.9897617981474935\n"
     ]
    }
   ],
   "source": [
    "# Training\n",
    "clf = LinearRegression()\n",
    "clf.fit(X_train,y_train)\n",
    "# Testing\n",
    "confidence = clf.score(X_test, y_test)\n",
    "print(\"confidence: \", confidence)"
   ]
  },
  {
   "cell_type": "code",
   "execution_count": 38,
   "id": "05c06646-25e1-417b-8b6e-3865591569e3",
   "metadata": {},
   "outputs": [
    {
     "name": "stdout",
     "output_type": "stream",
     "text": [
      "[124.22016894 124.18080822 125.28296311 124.73188617 124.41698349\n",
      " 123.50180397 121.8190526  120.95307197 122.01586714 121.7698517\n",
      " 121.20127889 122.04913922 120.93196222 122.86707503 123.38577165\n",
      " 123.48551805 125.72985685 126.16875276 127.27595991 127.51535405\n",
      " 128.19363613 125.69993333 126.77721795 128.90185569 129.49036821\n",
      " 128.60260753 129.82952371 132.42297291 132.64242037 132.69229755]\n"
     ]
    }
   ],
   "source": [
    "forecast_prediction = clf.predict(X_forecast)\n",
    "print(forecast_prediction)"
   ]
  },
  {
   "cell_type": "code",
   "execution_count": 45,
   "id": "4230fedb-60f7-450f-b6ea-0ea46895c5a3",
   "metadata": {},
   "outputs": [
    {
     "data": {
      "text/plain": [
       "array([[1.98870359],\n",
       "       [1.98778606],\n",
       "       [2.01347823],\n",
       "       [2.00063216],\n",
       "       [1.9932915 ],\n",
       "       [1.97195788],\n",
       "       [1.9327315 ],\n",
       "       [1.91254475],\n",
       "       [1.93731942],\n",
       "       [1.93158459],\n",
       "       [1.91833067],\n",
       "       [1.93809502],\n",
       "       [1.91205266],\n",
       "       [1.95716181],\n",
       "       [1.96925307],\n",
       "       [1.97157824],\n",
       "       [2.02389571],\n",
       "       [2.03412675],\n",
       "       [2.0599367 ],\n",
       "       [2.06551719],\n",
       "       [2.08132853],\n",
       "       [2.02319817],\n",
       "       [2.0483106 ],\n",
       "       [2.09783773],\n",
       "       [2.11155647],\n",
       "       [2.090862  ],\n",
       "       [2.11946247],\n",
       "       [2.179918  ],\n",
       "       [2.18503351],\n",
       "       [2.18619619]])"
      ]
     },
     "execution_count": 45,
     "metadata": {},
     "output_type": "execute_result"
    }
   ],
   "source": [
    "X_forecast"
   ]
  },
  {
   "cell_type": "code",
   "execution_count": 44,
   "id": "bd3ed211-c009-4f49-8366-f6397c2657f5",
   "metadata": {},
   "outputs": [
    {
     "data": {
      "text/plain": [
       "array([124.22016894, 124.18080822, 125.28296311, 124.73188617,\n",
       "       124.41698349, 123.50180397, 121.8190526 , 120.95307197,\n",
       "       122.01586714, 121.7698517 , 121.20127889, 122.04913922,\n",
       "       120.93196222, 122.86707503, 123.38577165, 123.48551805,\n",
       "       125.72985685, 126.16875276, 127.27595991, 127.51535405,\n",
       "       128.19363613, 125.69993333, 126.77721795, 128.90185569,\n",
       "       129.49036821, 128.60260753, 129.82952371, 132.42297291,\n",
       "       132.64242037, 132.69229755])"
      ]
     },
     "execution_count": 44,
     "metadata": {},
     "output_type": "execute_result"
    }
   ],
   "source": [
    "clf.predict(X_forecast)"
   ]
  },
  {
   "cell_type": "code",
   "execution_count": null,
   "id": "e61b3edb-03c4-4280-a185-96c718935a5f",
   "metadata": {},
   "outputs": [],
   "source": []
  }
 ],
 "metadata": {
  "kernelspec": {
   "display_name": "Python 3.9.16",
   "language": "python",
   "name": "python3"
  },
  "language_info": {
   "codemirror_mode": {
    "name": "ipython",
    "version": 3
   },
   "file_extension": ".py",
   "mimetype": "text/x-python",
   "name": "python",
   "nbconvert_exporter": "python",
   "pygments_lexer": "ipython3",
   "version": "3.9.16"
  }
 },
 "nbformat": 4,
 "nbformat_minor": 5
}
