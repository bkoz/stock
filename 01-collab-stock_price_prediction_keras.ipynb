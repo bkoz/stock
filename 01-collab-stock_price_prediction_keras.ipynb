{
  "nbformat": 4,
  "nbformat_minor": 0,
  "metadata": {
    "colab": {
      "name": "stock-price-prediction-keras.ipynb",
      "provenance": [],
      "collapsed_sections": [
        "mPYS78ikjcIa"
      ],
      "gpuType": "T4"
    },
    "kernelspec": {
      "name": "python3",
      "display_name": "Python 3"
    },
    "accelerator": "GPU"
  },
  "cells": [
    {
      "metadata": {
        "id": "EgaNRy_Rq0wx"
      },
      "cell_type": "markdown",
      "source": [
        "# Predict stock prices  with Long short-term memory (LSTM)"
      ]
    },
    {
      "metadata": {
        "id": "S1WPMQ_LHNQU"
      },
      "cell_type": "markdown",
      "source": [
        "This simple example will show you how LSTM models predict time series data. Stock market data is a great choice for this because it's quite regular and widely available via the Internet. "
      ]
    },
    {
      "metadata": {
        "id": "vurGbUjFwBFO"
      },
      "cell_type": "markdown",
      "source": [
        "## Install requirements\n",
        "We install Tensorflow 2.0 with GPU support first"
      ]
    },
    {
      "metadata": {
        "id": "QSG622MbwEOJ",
        "outputId": "f1019521-b2f1-4cee-82ea-b11e9da8a625",
        "colab": {
          "base_uri": "https://localhost:8080/"
        }
      },
      "cell_type": "code",
      "source": [
        "!pip install tensorflow"
      ],
      "execution_count": 1,
      "outputs": [
        {
          "output_type": "stream",
          "name": "stdout",
          "text": [
            "Looking in indexes: https://pypi.org/simple, https://us-python.pkg.dev/colab-wheels/public/simple/\n",
            "Requirement already satisfied: tensorflow in /usr/local/lib/python3.10/dist-packages (2.12.0)\n",
            "Requirement already satisfied: absl-py>=1.0.0 in /usr/local/lib/python3.10/dist-packages (from tensorflow) (1.4.0)\n",
            "Requirement already satisfied: astunparse>=1.6.0 in /usr/local/lib/python3.10/dist-packages (from tensorflow) (1.6.3)\n",
            "Requirement already satisfied: flatbuffers>=2.0 in /usr/local/lib/python3.10/dist-packages (from tensorflow) (23.3.3)\n",
            "Requirement already satisfied: gast<=0.4.0,>=0.2.1 in /usr/local/lib/python3.10/dist-packages (from tensorflow) (0.4.0)\n",
            "Requirement already satisfied: google-pasta>=0.1.1 in /usr/local/lib/python3.10/dist-packages (from tensorflow) (0.2.0)\n",
            "Requirement already satisfied: grpcio<2.0,>=1.24.3 in /usr/local/lib/python3.10/dist-packages (from tensorflow) (1.54.0)\n",
            "Requirement already satisfied: h5py>=2.9.0 in /usr/local/lib/python3.10/dist-packages (from tensorflow) (3.8.0)\n",
            "Requirement already satisfied: jax>=0.3.15 in /usr/local/lib/python3.10/dist-packages (from tensorflow) (0.4.10)\n",
            "Requirement already satisfied: keras<2.13,>=2.12.0 in /usr/local/lib/python3.10/dist-packages (from tensorflow) (2.12.0)\n",
            "Requirement already satisfied: libclang>=13.0.0 in /usr/local/lib/python3.10/dist-packages (from tensorflow) (16.0.0)\n",
            "Requirement already satisfied: numpy<1.24,>=1.22 in /usr/local/lib/python3.10/dist-packages (from tensorflow) (1.22.4)\n",
            "Requirement already satisfied: opt-einsum>=2.3.2 in /usr/local/lib/python3.10/dist-packages (from tensorflow) (3.3.0)\n",
            "Requirement already satisfied: packaging in /usr/local/lib/python3.10/dist-packages (from tensorflow) (23.1)\n",
            "Requirement already satisfied: protobuf!=4.21.0,!=4.21.1,!=4.21.2,!=4.21.3,!=4.21.4,!=4.21.5,<5.0.0dev,>=3.20.3 in /usr/local/lib/python3.10/dist-packages (from tensorflow) (3.20.3)\n",
            "Requirement already satisfied: setuptools in /usr/local/lib/python3.10/dist-packages (from tensorflow) (67.7.2)\n",
            "Requirement already satisfied: six>=1.12.0 in /usr/local/lib/python3.10/dist-packages (from tensorflow) (1.16.0)\n",
            "Requirement already satisfied: tensorboard<2.13,>=2.12 in /usr/local/lib/python3.10/dist-packages (from tensorflow) (2.12.2)\n",
            "Requirement already satisfied: tensorflow-estimator<2.13,>=2.12.0 in /usr/local/lib/python3.10/dist-packages (from tensorflow) (2.12.0)\n",
            "Requirement already satisfied: termcolor>=1.1.0 in /usr/local/lib/python3.10/dist-packages (from tensorflow) (2.3.0)\n",
            "Requirement already satisfied: typing-extensions>=3.6.6 in /usr/local/lib/python3.10/dist-packages (from tensorflow) (4.5.0)\n",
            "Requirement already satisfied: wrapt<1.15,>=1.11.0 in /usr/local/lib/python3.10/dist-packages (from tensorflow) (1.14.1)\n",
            "Requirement already satisfied: tensorflow-io-gcs-filesystem>=0.23.1 in /usr/local/lib/python3.10/dist-packages (from tensorflow) (0.32.0)\n",
            "Requirement already satisfied: wheel<1.0,>=0.23.0 in /usr/local/lib/python3.10/dist-packages (from astunparse>=1.6.0->tensorflow) (0.40.0)\n",
            "Requirement already satisfied: ml-dtypes>=0.1.0 in /usr/local/lib/python3.10/dist-packages (from jax>=0.3.15->tensorflow) (0.1.0)\n",
            "Requirement already satisfied: scipy>=1.7 in /usr/local/lib/python3.10/dist-packages (from jax>=0.3.15->tensorflow) (1.10.1)\n",
            "Requirement already satisfied: google-auth<3,>=1.6.3 in /usr/local/lib/python3.10/dist-packages (from tensorboard<2.13,>=2.12->tensorflow) (2.17.3)\n",
            "Requirement already satisfied: google-auth-oauthlib<1.1,>=0.5 in /usr/local/lib/python3.10/dist-packages (from tensorboard<2.13,>=2.12->tensorflow) (1.0.0)\n",
            "Requirement already satisfied: markdown>=2.6.8 in /usr/local/lib/python3.10/dist-packages (from tensorboard<2.13,>=2.12->tensorflow) (3.4.3)\n",
            "Requirement already satisfied: requests<3,>=2.21.0 in /usr/local/lib/python3.10/dist-packages (from tensorboard<2.13,>=2.12->tensorflow) (2.27.1)\n",
            "Requirement already satisfied: tensorboard-data-server<0.8.0,>=0.7.0 in /usr/local/lib/python3.10/dist-packages (from tensorboard<2.13,>=2.12->tensorflow) (0.7.0)\n",
            "Requirement already satisfied: tensorboard-plugin-wit>=1.6.0 in /usr/local/lib/python3.10/dist-packages (from tensorboard<2.13,>=2.12->tensorflow) (1.8.1)\n",
            "Requirement already satisfied: werkzeug>=1.0.1 in /usr/local/lib/python3.10/dist-packages (from tensorboard<2.13,>=2.12->tensorflow) (2.3.0)\n",
            "Requirement already satisfied: cachetools<6.0,>=2.0.0 in /usr/local/lib/python3.10/dist-packages (from google-auth<3,>=1.6.3->tensorboard<2.13,>=2.12->tensorflow) (5.3.0)\n",
            "Requirement already satisfied: pyasn1-modules>=0.2.1 in /usr/local/lib/python3.10/dist-packages (from google-auth<3,>=1.6.3->tensorboard<2.13,>=2.12->tensorflow) (0.3.0)\n",
            "Requirement already satisfied: rsa<5,>=3.1.4 in /usr/local/lib/python3.10/dist-packages (from google-auth<3,>=1.6.3->tensorboard<2.13,>=2.12->tensorflow) (4.9)\n",
            "Requirement already satisfied: requests-oauthlib>=0.7.0 in /usr/local/lib/python3.10/dist-packages (from google-auth-oauthlib<1.1,>=0.5->tensorboard<2.13,>=2.12->tensorflow) (1.3.1)\n",
            "Requirement already satisfied: urllib3<1.27,>=1.21.1 in /usr/local/lib/python3.10/dist-packages (from requests<3,>=2.21.0->tensorboard<2.13,>=2.12->tensorflow) (1.26.15)\n",
            "Requirement already satisfied: certifi>=2017.4.17 in /usr/local/lib/python3.10/dist-packages (from requests<3,>=2.21.0->tensorboard<2.13,>=2.12->tensorflow) (2022.12.7)\n",
            "Requirement already satisfied: charset-normalizer~=2.0.0 in /usr/local/lib/python3.10/dist-packages (from requests<3,>=2.21.0->tensorboard<2.13,>=2.12->tensorflow) (2.0.12)\n",
            "Requirement already satisfied: idna<4,>=2.5 in /usr/local/lib/python3.10/dist-packages (from requests<3,>=2.21.0->tensorboard<2.13,>=2.12->tensorflow) (3.4)\n",
            "Requirement already satisfied: MarkupSafe>=2.1.1 in /usr/local/lib/python3.10/dist-packages (from werkzeug>=1.0.1->tensorboard<2.13,>=2.12->tensorflow) (2.1.2)\n",
            "Requirement already satisfied: pyasn1<0.6.0,>=0.4.6 in /usr/local/lib/python3.10/dist-packages (from pyasn1-modules>=0.2.1->google-auth<3,>=1.6.3->tensorboard<2.13,>=2.12->tensorflow) (0.5.0)\n",
            "Requirement already satisfied: oauthlib>=3.0.0 in /usr/local/lib/python3.10/dist-packages (from requests-oauthlib>=0.7.0->google-auth-oauthlib<1.1,>=0.5->tensorboard<2.13,>=2.12->tensorflow) (3.2.2)\n"
          ]
        }
      ]
    },
    {
      "metadata": {
        "id": "fmR4lwm81Vbr",
        "outputId": "22fc947b-c8aa-4d1d-89c7-8efbfb0a6056",
        "colab": {
          "base_uri": "https://localhost:8080/"
        }
      },
      "cell_type": "code",
      "source": [
        "!pip install pandas-datareader"
      ],
      "execution_count": 2,
      "outputs": [
        {
          "output_type": "stream",
          "name": "stdout",
          "text": [
            "Looking in indexes: https://pypi.org/simple, https://us-python.pkg.dev/colab-wheels/public/simple/\n",
            "Requirement already satisfied: pandas-datareader in /usr/local/lib/python3.10/dist-packages (0.10.0)\n",
            "Requirement already satisfied: lxml in /usr/local/lib/python3.10/dist-packages (from pandas-datareader) (4.9.2)\n",
            "Requirement already satisfied: pandas>=0.23 in /usr/local/lib/python3.10/dist-packages (from pandas-datareader) (1.5.3)\n",
            "Requirement already satisfied: requests>=2.19.0 in /usr/local/lib/python3.10/dist-packages (from pandas-datareader) (2.27.1)\n",
            "Requirement already satisfied: python-dateutil>=2.8.1 in /usr/local/lib/python3.10/dist-packages (from pandas>=0.23->pandas-datareader) (2.8.2)\n",
            "Requirement already satisfied: pytz>=2020.1 in /usr/local/lib/python3.10/dist-packages (from pandas>=0.23->pandas-datareader) (2022.7.1)\n",
            "Requirement already satisfied: numpy>=1.21.0 in /usr/local/lib/python3.10/dist-packages (from pandas>=0.23->pandas-datareader) (1.22.4)\n",
            "Requirement already satisfied: urllib3<1.27,>=1.21.1 in /usr/local/lib/python3.10/dist-packages (from requests>=2.19.0->pandas-datareader) (1.26.15)\n",
            "Requirement already satisfied: certifi>=2017.4.17 in /usr/local/lib/python3.10/dist-packages (from requests>=2.19.0->pandas-datareader) (2022.12.7)\n",
            "Requirement already satisfied: charset-normalizer~=2.0.0 in /usr/local/lib/python3.10/dist-packages (from requests>=2.19.0->pandas-datareader) (2.0.12)\n",
            "Requirement already satisfied: idna<4,>=2.5 in /usr/local/lib/python3.10/dist-packages (from requests>=2.19.0->pandas-datareader) (3.4)\n",
            "Requirement already satisfied: six>=1.5 in /usr/local/lib/python3.10/dist-packages (from python-dateutil>=2.8.1->pandas>=0.23->pandas-datareader) (1.16.0)\n"
          ]
        }
      ]
    },
    {
      "metadata": {
        "id": "hqWZAabeiLc_",
        "outputId": "30820940-e0c4-4002-c4df-18cba68ef438",
        "colab": {
          "base_uri": "https://localhost:8080/"
        }
      },
      "cell_type": "code",
      "source": [
        "!apt install graphviz"
      ],
      "execution_count": 3,
      "outputs": [
        {
          "output_type": "stream",
          "name": "stdout",
          "text": [
            "Reading package lists... Done\n",
            "Building dependency tree       \n",
            "Reading state information... Done\n",
            "graphviz is already the newest version (2.42.2-3build2).\n",
            "0 upgraded, 0 newly installed, 0 to remove and 38 not upgraded.\n"
          ]
        }
      ]
    },
    {
      "metadata": {
        "id": "K5Wmmx6-iPUT",
        "outputId": "40378ab6-c57f-4e78-99dc-4ea2f72a46e4",
        "colab": {
          "base_uri": "https://localhost:8080/"
        }
      },
      "cell_type": "code",
      "source": [
        "!pip install pydot pydot-ng"
      ],
      "execution_count": 4,
      "outputs": [
        {
          "output_type": "stream",
          "name": "stdout",
          "text": [
            "Looking in indexes: https://pypi.org/simple, https://us-python.pkg.dev/colab-wheels/public/simple/\n",
            "Requirement already satisfied: pydot in /usr/local/lib/python3.10/dist-packages (1.4.2)\n",
            "Requirement already satisfied: pydot-ng in /usr/local/lib/python3.10/dist-packages (2.0.0)\n",
            "Requirement already satisfied: pyparsing>=2.1.4 in /usr/local/lib/python3.10/dist-packages (from pydot) (3.0.9)\n"
          ]
        }
      ]
    },
    {
      "metadata": {
        "id": "Fcl6EKdTv51W"
      },
      "cell_type": "markdown",
      "source": [
        "## Introduction"
      ]
    },
    {
      "metadata": {
        "id": "Rui0kjzEvXTV"
      },
      "cell_type": "markdown",
      "source": [
        "LSTMs are very powerful in sequence prediction problems. They can store past information."
      ]
    },
    {
      "metadata": {
        "id": "Ed7_c04-vz2f"
      },
      "cell_type": "markdown",
      "source": [
        "## Loading the dataset\n",
        "I use pandas-datareader to get the historical stock prices from Yahoo! finance. For this example, I get only the historical data till the end of *training_end_data*.  "
      ]
    },
    {
      "cell_type": "code",
      "source": [
        "!pip install pandas_datareader -U"
      ],
      "metadata": {
        "id": "h4rgJ0kkuZkK",
        "outputId": "bd678a2a-9af3-4a7b-fbdb-a20d46ea1441",
        "colab": {
          "base_uri": "https://localhost:8080/"
        }
      },
      "execution_count": 5,
      "outputs": [
        {
          "output_type": "stream",
          "name": "stdout",
          "text": [
            "Looking in indexes: https://pypi.org/simple, https://us-python.pkg.dev/colab-wheels/public/simple/\n",
            "Requirement already satisfied: pandas_datareader in /usr/local/lib/python3.10/dist-packages (0.10.0)\n",
            "Requirement already satisfied: lxml in /usr/local/lib/python3.10/dist-packages (from pandas_datareader) (4.9.2)\n",
            "Requirement already satisfied: pandas>=0.23 in /usr/local/lib/python3.10/dist-packages (from pandas_datareader) (1.5.3)\n",
            "Requirement already satisfied: requests>=2.19.0 in /usr/local/lib/python3.10/dist-packages (from pandas_datareader) (2.27.1)\n",
            "Requirement already satisfied: python-dateutil>=2.8.1 in /usr/local/lib/python3.10/dist-packages (from pandas>=0.23->pandas_datareader) (2.8.2)\n",
            "Requirement already satisfied: pytz>=2020.1 in /usr/local/lib/python3.10/dist-packages (from pandas>=0.23->pandas_datareader) (2022.7.1)\n",
            "Requirement already satisfied: numpy>=1.21.0 in /usr/local/lib/python3.10/dist-packages (from pandas>=0.23->pandas_datareader) (1.22.4)\n",
            "Requirement already satisfied: urllib3<1.27,>=1.21.1 in /usr/local/lib/python3.10/dist-packages (from requests>=2.19.0->pandas_datareader) (1.26.15)\n",
            "Requirement already satisfied: certifi>=2017.4.17 in /usr/local/lib/python3.10/dist-packages (from requests>=2.19.0->pandas_datareader) (2022.12.7)\n",
            "Requirement already satisfied: charset-normalizer~=2.0.0 in /usr/local/lib/python3.10/dist-packages (from requests>=2.19.0->pandas_datareader) (2.0.12)\n",
            "Requirement already satisfied: idna<4,>=2.5 in /usr/local/lib/python3.10/dist-packages (from requests>=2.19.0->pandas_datareader) (3.4)\n",
            "Requirement already satisfied: six>=1.5 in /usr/local/lib/python3.10/dist-packages (from python-dateutil>=2.8.1->pandas>=0.23->pandas_datareader) (1.16.0)\n"
          ]
        }
      ]
    },
    {
      "metadata": {
        "id": "Hh-pO_QXqysJ"
      },
      "cell_type": "code",
      "source": [
        "import numpy as np\n",
        "import matplotlib.pyplot as plt\n",
        "import pandas as pd\n",
        "from pandas_datareader import data"
      ],
      "execution_count": 6,
      "outputs": []
    },
    {
      "cell_type": "code",
      "source": [
        "!pip install yfinance pandas_datareader -Uq --no-cache-dir"
      ],
      "metadata": {
        "id": "zwiVaLWCtcy1",
        "outputId": "6ec5da9b-6d4f-4c99-f8b5-30a42b70ebc8",
        "colab": {
          "base_uri": "https://localhost:8080/"
        }
      },
      "execution_count": 7,
      "outputs": [
        {
          "output_type": "stream",
          "name": "stdout",
          "text": [
            "\u001b[?25l     \u001b[90m━━━━━━━━━━━━━━━━━━━━━━━━━━━━━━━━━━━━━━━━\u001b[0m \u001b[32m0.0/62.5 kB\u001b[0m \u001b[31m?\u001b[0m eta \u001b[36m-:--:--\u001b[0m\r\u001b[2K     \u001b[90m━━━━━━━━━━━━━━━━━━━━━━━━━━━━━━━━━━━━━━━━\u001b[0m \u001b[32m62.5/62.5 kB\u001b[0m \u001b[31m5.0 MB/s\u001b[0m eta \u001b[36m0:00:00\u001b[0m\n",
            "\u001b[?25h"
          ]
        }
      ]
    },
    {
      "cell_type": "code",
      "source": [
        "import numpy as np #python library for scientific computing\n",
        "import pandas as pd #python library for data manipulation and analysis\n",
        "import matplotlib.pyplot as plt #python library for charting\n",
        "from pandas_datareader import data as pdr #extract data from internet sources into pandas data frame\n",
        "import yfinance as yf\n",
        "\n",
        "yf.pdr_override()\n",
        "data = pdr.get_data_yahoo('^DJI', start='2006-01-01')\n",
        "data2 = pdr.get_data_yahoo('MSFT', start='2006-01-01')\n",
        "data3 = pdr.get_data_yahoo('AAPL', start='2006-01-01')\n",
        "data4 = pdr.get_data_yahoo('BB.TO', start='2006-01-01')\n",
        "\n",
        "ax = (data['Close'] / data['Close'].iloc[0] * 100).plot(figsize=(15, 6))\n",
        "(data2['Close'] / data2['Close'].iloc[0] * 100).plot(ax=ax, figsize=(15,6))\n",
        "(data3['Close'] / data3['Close'].iloc[0] * 100).plot(ax=ax, figsize=(15,6))\n",
        "(data4['Close'] / data4['Close'].iloc[0] * 100).plot(ax=ax, figsize=(15,6))\n",
        "\n",
        "plt.legend(['Dow Jones', 'Microsoft', 'Apple', 'Blackberry'], loc='upper left')\n",
        "plt.show()"
      ],
      "metadata": {
        "id": "3wswLSM8t-SS",
        "outputId": "dae3935f-6737-41e1-e804-32a34d004023",
        "colab": {
          "base_uri": "https://localhost:8080/",
          "height": 575
        }
      },
      "execution_count": 8,
      "outputs": [
        {
          "output_type": "stream",
          "name": "stdout",
          "text": [
            "[*********************100%***********************]  1 of 1 completed\n",
            "[*********************100%***********************]  1 of 1 completed\n",
            "[*********************100%***********************]  1 of 1 completed\n",
            "[*********************100%***********************]  1 of 1 completed\n"
          ]
        },
        {
          "output_type": "display_data",
          "data": {
            "text/plain": [
              "<Figure size 1500x600 with 1 Axes>"
            ],
            "image/png": "[encoded data removed]"
          },
          "metadata": {}
        }
      ]
    },
    {
      "metadata": {
        "id": "D8-w0eEtwnaj",
        "colab": {
          "base_uri": "https://localhost:8080/"
        },
        "outputId": "27deb749-4592-4493-d26b-7cf70b0a54da"
      },
      "cell_type": "code",
      "source": [
        "tickers = 'AAPL'\n",
        "\n",
        "start_date = '1980-12-01'\n",
        "end_date = '2018-12-31'\n",
        "\n",
        "stock_data = pdr.get_data_yahoo(tickers, start_date)"
      ],
      "execution_count": 9,
      "outputs": [
        {
          "output_type": "stream",
          "name": "stdout",
          "text": [
            "\r[*********************100%***********************]  1 of 1 completed\n"
          ]
        }
      ]
    },
    {
      "metadata": {
        "id": "Y2HpcDRd38on",
        "outputId": "a82ae17a-91b1-4bd8-fc23-70cb19edf302",
        "colab": {
          "base_uri": "https://localhost:8080/",
          "height": 394
        }
      },
      "cell_type": "code",
      "source": [
        "stock_data.head(10)"
      ],
      "execution_count": 10,
      "outputs": [
        {
          "output_type": "execute_result",
          "data": {
            "text/plain": [
              "                Open      High       Low     Close  Adj Close     Volume\n",
              "Date                                                                    \n",
              "1980-12-12  0.128348  0.128906  0.128348  0.128348   0.099584  469033600\n",
              "1980-12-15  0.122210  0.122210  0.121652  0.121652   0.094388  175884800\n",
              "1980-12-16  0.113281  0.113281  0.112723  0.112723   0.087461  105728000\n",
              "1980-12-17  0.115513  0.116071  0.115513  0.115513   0.089625   86441600\n",
              "1980-12-18  0.118862  0.119420  0.118862  0.118862   0.092224   73449600\n",
              "1980-12-19  0.126116  0.126674  0.126116  0.126116   0.097852   48630400\n",
              "1980-12-22  0.132254  0.132813  0.132254  0.132254   0.102614   37363200\n",
              "1980-12-23  0.137835  0.138393  0.137835  0.137835   0.106945   46950400\n",
              "1980-12-24  0.145089  0.145647  0.145089  0.145089   0.112573   48003200\n",
              "1980-12-26  0.158482  0.159040  0.158482  0.158482   0.122964   55574400"
            ],
            "text/html": [
              "\n",
              "  <div id=\"df-5ba36666-ff64-4d7a-b239-696eafcb0127\">\n",
              "    <div class=\"colab-df-container\">\n",
              "      <div>\n",
              "<style scoped>\n",
              "    .dataframe tbody tr th:only-of-type {\n",
              "        vertical-align: middle;\n",
              "    }\n",
              "\n",
              "    .dataframe tbody tr th {\n",
              "        vertical-align: top;\n",
              "    }\n",
              "\n",
              "    .dataframe thead th {\n",
              "        text-align: right;\n",
              "    }\n",
              "</style>\n",
              "<table border=\"1\" class=\"dataframe\">\n",
              "  <thead>\n",
              "    <tr style=\"text-align: right;\">\n",
              "      <th></th>\n",
              "      <th>Open</th>\n",
              "      <th>High</th>\n",
              "      <th>Low</th>\n",
              "      <th>Close</th>\n",
              "      <th>Adj Close</th>\n",
              "      <th>Volume</th>\n",
              "    </tr>\n",
              "    <tr>\n",
              "      <th>Date</th>\n",
              "      <th></th>\n",
              "      <th></th>\n",
              "      <th></th>\n",
              "      <th></th>\n",
              "      <th></th>\n",
              "      <th></th>\n",
              "    </tr>\n",
              "  </thead>\n",
              "  <tbody>\n",
              "    <tr>\n",
              "      <th>1980-12-12</th>\n",
              "      <td>0.128348</td>\n",
              "      <td>0.128906</td>\n",
              "      <td>0.128348</td>\n",
              "      <td>0.128348</td>\n",
              "      <td>0.099584</td>\n",
              "      <td>469033600</td>\n",
              "    </tr>\n",
              "    <tr>\n",
              "      <th>1980-12-15</th>\n",
              "      <td>0.122210</td>\n",
              "      <td>0.122210</td>\n",
              "      <td>0.121652</td>\n",
              "      <td>0.121652</td>\n",
              "      <td>0.094388</td>\n",
              "      <td>175884800</td>\n",
              "    </tr>\n",
              "    <tr>\n",
              "      <th>1980-12-16</th>\n",
              "      <td>0.113281</td>\n",
              "      <td>0.113281</td>\n",
              "      <td>0.112723</td>\n",
              "      <td>0.112723</td>\n",
              "      <td>0.087461</td>\n",
              "      <td>105728000</td>\n",
              "    </tr>\n",
              "    <tr>\n",
              "      <th>1980-12-17</th>\n",
              "      <td>0.115513</td>\n",
              "      <td>0.116071</td>\n",
              "      <td>0.115513</td>\n",
              "      <td>0.115513</td>\n",
              "      <td>0.089625</td>\n",
              "      <td>86441600</td>\n",
              "    </tr>\n",
              "    <tr>\n",
              "      <th>1980-12-18</th>\n",
              "      <td>0.118862</td>\n",
              "      <td>0.119420</td>\n",
              "      <td>0.118862</td>\n",
              "      <td>0.118862</td>\n",
              "      <td>0.092224</td>\n",
              "      <td>73449600</td>\n",
              "    </tr>\n",
              "    <tr>\n",
              "      <th>1980-12-19</th>\n",
              "      <td>0.126116</td>\n",
              "      <td>0.126674</td>\n",
              "      <td>0.126116</td>\n",
              "      <td>0.126116</td>\n",
              "      <td>0.097852</td>\n",
              "      <td>48630400</td>\n",
              "    </tr>\n",
              "    <tr>\n",
              "      <th>1980-12-22</th>\n",
              "      <td>0.132254</td>\n",
              "      <td>0.132813</td>\n",
              "      <td>0.132254</td>\n",
              "      <td>0.132254</td>\n",
              "      <td>0.102614</td>\n",
              "      <td>37363200</td>\n",
              "    </tr>\n",
              "    <tr>\n",
              "      <th>1980-12-23</th>\n",
              "      <td>0.137835</td>\n",
              "      <td>0.138393</td>\n",
              "      <td>0.137835</td>\n",
              "      <td>0.137835</td>\n",
              "      <td>0.106945</td>\n",
              "      <td>46950400</td>\n",
              "    </tr>\n",
              "    <tr>\n",
              "      <th>1980-12-24</th>\n",
              "      <td>0.145089</td>\n",
              "      <td>0.145647</td>\n",
              "      <td>0.145089</td>\n",
              "      <td>0.145089</td>\n",
              "      <td>0.112573</td>\n",
              "      <td>48003200</td>\n",
              "    </tr>\n",
              "    <tr>\n",
              "      <th>1980-12-26</th>\n",
              "      <td>0.158482</td>\n",
              "      <td>0.159040</td>\n",
              "      <td>0.158482</td>\n",
              "      <td>0.158482</td>\n",
              "      <td>0.122964</td>\n",
              "      <td>55574400</td>\n",
              "    </tr>\n",
              "  </tbody>\n",
              "</table>\n",
              "</div>\n",
              "      <button class=\"colab-df-convert\" onclick=\"convertToInteractive('df-5ba36666-ff64-4d7a-b239-696eafcb0127')\"\n",
              "              title=\"Convert this dataframe to an interactive table.\"\n",
              "              style=\"display:none;\">\n",
              "        \n",
              "  <svg xmlns=\"http://www.w3.org/2000/svg\" height=\"24px\"viewBox=\"0 0 24 24\"\n",
              "       width=\"24px\">\n",
              "    <path d=\"M0 0h24v24H0V0z\" fill=\"none\"/>\n",
              "    <path d=\"M18.56 5.44l.94 2.06.94-2.06 2.06-.94-2.06-.94-.94-2.06-.94 2.06-2.06.94zm-11 1L8.5 8.5l.94-2.06 2.06-.94-2.06-.94L8.5 2.5l-.94 2.06-2.06.94zm10 10l.94 2.06.94-2.06 2.06-.94-2.06-.94-.94-2.06-.94 2.06-2.06.94z\"/><path d=\"M17.41 7.96l-1.37-1.37c-.4-.4-.92-.59-1.43-.59-.52 0-1.04.2-1.43.59L10.3 9.45l-7.72 7.72c-.78.78-.78 2.05 0 2.83L4 21.41c.39.39.9.59 1.41.59.51 0 1.02-.2 1.41-.59l7.78-7.78 2.81-2.81c.8-.78.8-2.07 0-2.86zM5.41 20L4 18.59l7.72-7.72 1.47 1.35L5.41 20z\"/>\n",
              "  </svg>\n",
              "      </button>\n",
              "      \n",
              "  <style>\n",
              "    .colab-df-container {\n",
              "      display:flex;\n",
              "      flex-wrap:wrap;\n",
              "      gap: 12px;\n",
              "    }\n",
              "\n",
              "    .colab-df-convert {\n",
              "      background-color: #E8F0FE;\n",
              "      border: none;\n",
              "      border-radius: 50%;\n",
              "      cursor: pointer;\n",
              "      display: none;\n",
              "      fill: #1967D2;\n",
              "      height: 32px;\n",
              "      padding: 0 0 0 0;\n",
              "      width: 32px;\n",
              "    }\n",
              "\n",
              "    .colab-df-convert:hover {\n",
              "      background-color: #E2EBFA;\n",
              "      box-shadow: 0px 1px 2px rgba(60, 64, 67, 0.3), 0px 1px 3px 1px rgba(60, 64, 67, 0.15);\n",
              "      fill: #174EA6;\n",
              "    }\n",
              "\n",
              "    [theme=dark] .colab-df-convert {\n",
              "      background-color: #3B4455;\n",
              "      fill: #D2E3FC;\n",
              "    }\n",
              "\n",
              "    [theme=dark] .colab-df-convert:hover {\n",
              "      background-color: #434B5C;\n",
              "      box-shadow: 0px 1px 3px 1px rgba(0, 0, 0, 0.15);\n",
              "      filter: drop-shadow(0px 1px 2px rgba(0, 0, 0, 0.3));\n",
              "      fill: #FFFFFF;\n",
              "    }\n",
              "  </style>\n",
              "\n",
              "      <script>\n",
              "        const buttonEl =\n",
              "          document.querySelector('#df-5ba36666-ff64-4d7a-b239-696eafcb0127 button.colab-df-convert');\n",
              "        buttonEl.style.display =\n",
              "          google.colab.kernel.accessAllowed ? 'block' : 'none';\n",
              "\n",
              "        async function convertToInteractive(key) {\n",
              "          const element = document.querySelector('#df-5ba36666-ff64-4d7a-b239-696eafcb0127');\n",
              "          const dataTable =\n",
              "            await google.colab.kernel.invokeFunction('convertToInteractive',\n",
              "                                                     [key], {});\n",
              "          if (!dataTable) return;\n",
              "\n",
              "          const docLinkHtml = 'Like what you see? Visit the ' +\n",
              "            '<a target=\"_blank\" href=https://colab.research.google.com/notebooks/data_table.ipynb>data table notebook</a>'\n",
              "            + ' to learn more about interactive tables.';\n",
              "          element.innerHTML = '';\n",
              "          dataTable['output_type'] = 'display_data';\n",
              "          await google.colab.output.renderOutput(dataTable, element);\n",
              "          const docLink = document.createElement('div');\n",
              "          docLink.innerHTML = docLinkHtml;\n",
              "          element.appendChild(docLink);\n",
              "        }\n",
              "      </script>\n",
              "    </div>\n",
              "  </div>\n",
              "  "
            ]
          },
          "metadata": {},
          "execution_count": 10
        }
      ]
    },
    {
      "metadata": {
        "id": "_0UQ1jU7MHYi",
        "outputId": "e90ab9b1-0da9-4cf3-f123-ca424cee6019",
        "colab": {
          "base_uri": "https://localhost:8080/",
          "height": 300
        }
      },
      "cell_type": "code",
      "source": [
        "stock_data.describe()"
      ],
      "execution_count": 11,
      "outputs": [
        {
          "output_type": "execute_result",
          "data": {
            "text/plain": [
              "               Open          High           Low         Close     Adj Close  \\\n",
              "count  10711.000000  10711.000000  10711.000000  10711.000000  10711.000000   \n",
              "mean      17.883881     18.086785     17.687577     17.895480     17.184118   \n",
              "std       37.684253     38.133668     37.262481     37.718694     37.343361   \n",
              "min        0.049665      0.049665      0.049107      0.049107      0.038102   \n",
              "25%        0.290179      0.298828      0.283482      0.290737      0.239300   \n",
              "50%        0.494643      0.502232      0.486607      0.495179      0.410401   \n",
              "75%       17.701428     17.880000     17.471964     17.676964     15.313038   \n",
              "max      182.630005    184.949997    179.259995    182.009995    180.949997   \n",
              "\n",
              "             Volume  \n",
              "count  1.071100e+04  \n",
              "mean   3.250071e+08  \n",
              "std    3.371797e+08  \n",
              "min    0.000000e+00  \n",
              "25%    1.191196e+08  \n",
              "50%    2.122624e+08  \n",
              "75%    4.046462e+08  \n",
              "max    7.421641e+09  "
            ],
            "text/html": [
              "\n",
              "  <div id=\"df-7fe0736f-be87-414b-b6d7-9c57e3a60f74\">\n",
              "    <div class=\"colab-df-container\">\n",
              "      <div>\n",
              "<style scoped>\n",
              "    .dataframe tbody tr th:only-of-type {\n",
              "        vertical-align: middle;\n",
              "    }\n",
              "\n",
              "    .dataframe tbody tr th {\n",
              "        vertical-align: top;\n",
              "    }\n",
              "\n",
              "    .dataframe thead th {\n",
              "        text-align: right;\n",
              "    }\n",
              "</style>\n",
              "<table border=\"1\" class=\"dataframe\">\n",
              "  <thead>\n",
              "    <tr style=\"text-align: right;\">\n",
              "      <th></th>\n",
              "      <th>Open</th>\n",
              "      <th>High</th>\n",
              "      <th>Low</th>\n",
              "      <th>Close</th>\n",
              "      <th>Adj Close</th>\n",
              "      <th>Volume</th>\n",
              "    </tr>\n",
              "  </thead>\n",
              "  <tbody>\n",
              "    <tr>\n",
              "      <th>count</th>\n",
              "      <td>10711.000000</td>\n",
              "      <td>10711.000000</td>\n",
              "      <td>10711.000000</td>\n",
              "      <td>10711.000000</td>\n",
              "      <td>10711.000000</td>\n",
              "      <td>1.071100e+04</td>\n",
              "    </tr>\n",
              "    <tr>\n",
              "      <th>mean</th>\n",
              "      <td>17.883881</td>\n",
              "      <td>18.086785</td>\n",
              "      <td>17.687577</td>\n",
              "      <td>17.895480</td>\n",
              "      <td>17.184118</td>\n",
              "      <td>3.250071e+08</td>\n",
              "    </tr>\n",
              "    <tr>\n",
              "      <th>std</th>\n",
              "      <td>37.684253</td>\n",
              "      <td>38.133668</td>\n",
              "      <td>37.262481</td>\n",
              "      <td>37.718694</td>\n",
              "      <td>37.343361</td>\n",
              "      <td>3.371797e+08</td>\n",
              "    </tr>\n",
              "    <tr>\n",
              "      <th>min</th>\n",
              "      <td>0.049665</td>\n",
              "      <td>0.049665</td>\n",
              "      <td>0.049107</td>\n",
              "      <td>0.049107</td>\n",
              "      <td>0.038102</td>\n",
              "      <td>0.000000e+00</td>\n",
              "    </tr>\n",
              "    <tr>\n",
              "      <th>25%</th>\n",
              "      <td>0.290179</td>\n",
              "      <td>0.298828</td>\n",
              "      <td>0.283482</td>\n",
              "      <td>0.290737</td>\n",
              "      <td>0.239300</td>\n",
              "      <td>1.191196e+08</td>\n",
              "    </tr>\n",
              "    <tr>\n",
              "      <th>50%</th>\n",
              "      <td>0.494643</td>\n",
              "      <td>0.502232</td>\n",
              "      <td>0.486607</td>\n",
              "      <td>0.495179</td>\n",
              "      <td>0.410401</td>\n",
              "      <td>2.122624e+08</td>\n",
              "    </tr>\n",
              "    <tr>\n",
              "      <th>75%</th>\n",
              "      <td>17.701428</td>\n",
              "      <td>17.880000</td>\n",
              "      <td>17.471964</td>\n",
              "      <td>17.676964</td>\n",
              "      <td>15.313038</td>\n",
              "      <td>4.046462e+08</td>\n",
              "    </tr>\n",
              "    <tr>\n",
              "      <th>max</th>\n",
              "      <td>182.630005</td>\n",
              "      <td>184.949997</td>\n",
              "      <td>179.259995</td>\n",
              "      <td>182.009995</td>\n",
              "      <td>180.949997</td>\n",
              "      <td>7.421641e+09</td>\n",
              "    </tr>\n",
              "  </tbody>\n",
              "</table>\n",
              "</div>\n",
              "      <button class=\"colab-df-convert\" onclick=\"convertToInteractive('df-7fe0736f-be87-414b-b6d7-9c57e3a60f74')\"\n",
              "              title=\"Convert this dataframe to an interactive table.\"\n",
              "              style=\"display:none;\">\n",
              "        \n",
              "  <svg xmlns=\"http://www.w3.org/2000/svg\" height=\"24px\"viewBox=\"0 0 24 24\"\n",
              "       width=\"24px\">\n",
              "    <path d=\"M0 0h24v24H0V0z\" fill=\"none\"/>\n",
              "    <path d=\"M18.56 5.44l.94 2.06.94-2.06 2.06-.94-2.06-.94-.94-2.06-.94 2.06-2.06.94zm-11 1L8.5 8.5l.94-2.06 2.06-.94-2.06-.94L8.5 2.5l-.94 2.06-2.06.94zm10 10l.94 2.06.94-2.06 2.06-.94-2.06-.94-.94-2.06-.94 2.06-2.06.94z\"/><path d=\"M17.41 7.96l-1.37-1.37c-.4-.4-.92-.59-1.43-.59-.52 0-1.04.2-1.43.59L10.3 9.45l-7.72 7.72c-.78.78-.78 2.05 0 2.83L4 21.41c.39.39.9.59 1.41.59.51 0 1.02-.2 1.41-.59l7.78-7.78 2.81-2.81c.8-.78.8-2.07 0-2.86zM5.41 20L4 18.59l7.72-7.72 1.47 1.35L5.41 20z\"/>\n",
              "  </svg>\n",
              "      </button>\n",
              "      \n",
              "  <style>\n",
              "    .colab-df-container {\n",
              "      display:flex;\n",
              "      flex-wrap:wrap;\n",
              "      gap: 12px;\n",
              "    }\n",
              "\n",
              "    .colab-df-convert {\n",
              "      background-color: #E8F0FE;\n",
              "      border: none;\n",
              "      border-radius: 50%;\n",
              "      cursor: pointer;\n",
              "      display: none;\n",
              "      fill: #1967D2;\n",
              "      height: 32px;\n",
              "      padding: 0 0 0 0;\n",
              "      width: 32px;\n",
              "    }\n",
              "\n",
              "    .colab-df-convert:hover {\n",
              "      background-color: #E2EBFA;\n",
              "      box-shadow: 0px 1px 2px rgba(60, 64, 67, 0.3), 0px 1px 3px 1px rgba(60, 64, 67, 0.15);\n",
              "      fill: #174EA6;\n",
              "    }\n",
              "\n",
              "    [theme=dark] .colab-df-convert {\n",
              "      background-color: #3B4455;\n",
              "      fill: #D2E3FC;\n",
              "    }\n",
              "\n",
              "    [theme=dark] .colab-df-convert:hover {\n",
              "      background-color: #434B5C;\n",
              "      box-shadow: 0px 1px 3px 1px rgba(0, 0, 0, 0.15);\n",
              "      filter: drop-shadow(0px 1px 2px rgba(0, 0, 0, 0.3));\n",
              "      fill: #FFFFFF;\n",
              "    }\n",
              "  </style>\n",
              "\n",
              "      <script>\n",
              "        const buttonEl =\n",
              "          document.querySelector('#df-7fe0736f-be87-414b-b6d7-9c57e3a60f74 button.colab-df-convert');\n",
              "        buttonEl.style.display =\n",
              "          google.colab.kernel.accessAllowed ? 'block' : 'none';\n",
              "\n",
              "        async function convertToInteractive(key) {\n",
              "          const element = document.querySelector('#df-7fe0736f-be87-414b-b6d7-9c57e3a60f74');\n",
              "          const dataTable =\n",
              "            await google.colab.kernel.invokeFunction('convertToInteractive',\n",
              "                                                     [key], {});\n",
              "          if (!dataTable) return;\n",
              "\n",
              "          const docLinkHtml = 'Like what you see? Visit the ' +\n",
              "            '<a target=\"_blank\" href=https://colab.research.google.com/notebooks/data_table.ipynb>data table notebook</a>'\n",
              "            + ' to learn more about interactive tables.';\n",
              "          element.innerHTML = '';\n",
              "          dataTable['output_type'] = 'display_data';\n",
              "          await google.colab.output.renderOutput(dataTable, element);\n",
              "          const docLink = document.createElement('div');\n",
              "          docLink.innerHTML = docLinkHtml;\n",
              "          element.appendChild(docLink);\n",
              "        }\n",
              "      </script>\n",
              "    </div>\n",
              "  </div>\n",
              "  "
            ]
          },
          "metadata": {},
          "execution_count": 11
        }
      ]
    },
    {
      "metadata": {
        "id": "dFKhZw-YMM0w",
        "outputId": "8e8509cb-037d-490a-a2b9-61489c849ace",
        "colab": {
          "base_uri": "https://localhost:8080/"
        }
      },
      "cell_type": "code",
      "source": [
        "stock_data_len = stock_data['Close'].count()\n",
        "print(stock_data_len)"
      ],
      "execution_count": 12,
      "outputs": [
        {
          "output_type": "stream",
          "name": "stdout",
          "text": [
            "10711\n"
          ]
        }
      ]
    },
    {
      "metadata": {
        "id": "6jzF16Qr4qOA"
      },
      "cell_type": "markdown",
      "source": [
        "I'm only interested in *close* prices"
      ]
    },
    {
      "metadata": {
        "id": "Ns7Zcn2ZClZS",
        "outputId": "dcc262d5-ed12-43b7-918e-fb9c34eac319",
        "colab": {
          "base_uri": "https://localhost:8080/"
        }
      },
      "cell_type": "code",
      "source": [
        "close_prices = stock_data.iloc[:, 1:2].values\n",
        "print(close_prices)"
      ],
      "execution_count": 13,
      "outputs": [
        {
          "output_type": "stream",
          "name": "stdout",
          "text": [
            "[[1.28905997e-01]\n",
            " [1.22210003e-01]\n",
            " [1.13280997e-01]\n",
            " ...\n",
            " [1.84949997e+02]\n",
            " [1.80119995e+02]\n",
            " [1.81210007e+02]]\n"
          ]
        }
      ]
    },
    {
      "metadata": {
        "id": "KNaLuS1X5IVA"
      },
      "cell_type": "markdown",
      "source": [
        "Of course, some of the weekdays might be public holidays in which case no price will be available. For this reason, we will fill the missing prices with the latest available prices"
      ]
    },
    {
      "metadata": {
        "id": "P6GTsn7N5Nf2",
        "outputId": "ed2dbd3d-90db-4737-e3bc-8fa0e742cce0",
        "colab": {
          "base_uri": "https://localhost:8080/"
        }
      },
      "cell_type": "code",
      "source": [
        "all_bussinessdays = pd.date_range(start=start_date, end=end_date, freq='B')\n",
        "print(all_bussinessdays)"
      ],
      "execution_count": 14,
      "outputs": [
        {
          "output_type": "stream",
          "name": "stdout",
          "text": [
            "DatetimeIndex(['1980-12-01', '1980-12-02', '1980-12-03', '1980-12-04',\n",
            "               '1980-12-05', '1980-12-08', '1980-12-09', '1980-12-10',\n",
            "               '1980-12-11', '1980-12-12',\n",
            "               ...\n",
            "               '2018-12-18', '2018-12-19', '2018-12-20', '2018-12-21',\n",
            "               '2018-12-24', '2018-12-25', '2018-12-26', '2018-12-27',\n",
            "               '2018-12-28', '2018-12-31'],\n",
            "              dtype='datetime64[ns]', length=9936, freq='B')\n"
          ]
        }
      ]
    },
    {
      "metadata": {
        "id": "NDu-0h2i9MkT"
      },
      "cell_type": "code",
      "source": [
        "close_prices = stock_data.reindex(all_bussinessdays)\n",
        "close_prices = stock_data.fillna(method='ffill')"
      ],
      "execution_count": 15,
      "outputs": []
    },
    {
      "metadata": {
        "id": "xTieT-gC5e-p",
        "outputId": "83d36d83-7230-4c5e-cead-30a3cb2b25a4",
        "colab": {
          "base_uri": "https://localhost:8080/",
          "height": 394
        }
      },
      "cell_type": "code",
      "source": [
        "close_prices.head(10)"
      ],
      "execution_count": 16,
      "outputs": [
        {
          "output_type": "execute_result",
          "data": {
            "text/plain": [
              "                Open      High       Low     Close  Adj Close     Volume\n",
              "Date                                                                    \n",
              "1980-12-12  0.128348  0.128906  0.128348  0.128348   0.099584  469033600\n",
              "1980-12-15  0.122210  0.122210  0.121652  0.121652   0.094388  175884800\n",
              "1980-12-16  0.113281  0.113281  0.112723  0.112723   0.087461  105728000\n",
              "1980-12-17  0.115513  0.116071  0.115513  0.115513   0.089625   86441600\n",
              "1980-12-18  0.118862  0.119420  0.118862  0.118862   0.092224   73449600\n",
              "1980-12-19  0.126116  0.126674  0.126116  0.126116   0.097852   48630400\n",
              "1980-12-22  0.132254  0.132813  0.132254  0.132254   0.102614   37363200\n",
              "1980-12-23  0.137835  0.138393  0.137835  0.137835   0.106945   46950400\n",
              "1980-12-24  0.145089  0.145647  0.145089  0.145089   0.112573   48003200\n",
              "1980-12-26  0.158482  0.159040  0.158482  0.158482   0.122964   55574400"
            ],
            "text/html": [
              "\n",
              "  <div id=\"df-8b10808c-1c20-4ba4-ac09-765296e77898\">\n",
              "    <div class=\"colab-df-container\">\n",
              "      <div>\n",
              "<style scoped>\n",
              "    .dataframe tbody tr th:only-of-type {\n",
              "        vertical-align: middle;\n",
              "    }\n",
              "\n",
              "    .dataframe tbody tr th {\n",
              "        vertical-align: top;\n",
              "    }\n",
              "\n",
              "    .dataframe thead th {\n",
              "        text-align: right;\n",
              "    }\n",
              "</style>\n",
              "<table border=\"1\" class=\"dataframe\">\n",
              "  <thead>\n",
              "    <tr style=\"text-align: right;\">\n",
              "      <th></th>\n",
              "      <th>Open</th>\n",
              "      <th>High</th>\n",
              "      <th>Low</th>\n",
              "      <th>Close</th>\n",
              "      <th>Adj Close</th>\n",
              "      <th>Volume</th>\n",
              "    </tr>\n",
              "    <tr>\n",
              "      <th>Date</th>\n",
              "      <th></th>\n",
              "      <th></th>\n",
              "      <th></th>\n",
              "      <th></th>\n",
              "      <th></th>\n",
              "      <th></th>\n",
              "    </tr>\n",
              "  </thead>\n",
              "  <tbody>\n",
              "    <tr>\n",
              "      <th>1980-12-12</th>\n",
              "      <td>0.128348</td>\n",
              "      <td>0.128906</td>\n",
              "      <td>0.128348</td>\n",
              "      <td>0.128348</td>\n",
              "      <td>0.099584</td>\n",
              "      <td>469033600</td>\n",
              "    </tr>\n",
              "    <tr>\n",
              "      <th>1980-12-15</th>\n",
              "      <td>0.122210</td>\n",
              "      <td>0.122210</td>\n",
              "      <td>0.121652</td>\n",
              "      <td>0.121652</td>\n",
              "      <td>0.094388</td>\n",
              "      <td>175884800</td>\n",
              "    </tr>\n",
              "    <tr>\n",
              "      <th>1980-12-16</th>\n",
              "      <td>0.113281</td>\n",
              "      <td>0.113281</td>\n",
              "      <td>0.112723</td>\n",
              "      <td>0.112723</td>\n",
              "      <td>0.087461</td>\n",
              "      <td>105728000</td>\n",
              "    </tr>\n",
              "    <tr>\n",
              "      <th>1980-12-17</th>\n",
              "      <td>0.115513</td>\n",
              "      <td>0.116071</td>\n",
              "      <td>0.115513</td>\n",
              "      <td>0.115513</td>\n",
              "      <td>0.089625</td>\n",
              "      <td>86441600</td>\n",
              "    </tr>\n",
              "    <tr>\n",
              "      <th>1980-12-18</th>\n",
              "      <td>0.118862</td>\n",
              "      <td>0.119420</td>\n",
              "      <td>0.118862</td>\n",
              "      <td>0.118862</td>\n",
              "      <td>0.092224</td>\n",
              "      <td>73449600</td>\n",
              "    </tr>\n",
              "    <tr>\n",
              "      <th>1980-12-19</th>\n",
              "      <td>0.126116</td>\n",
              "      <td>0.126674</td>\n",
              "      <td>0.126116</td>\n",
              "      <td>0.126116</td>\n",
              "      <td>0.097852</td>\n",
              "      <td>48630400</td>\n",
              "    </tr>\n",
              "    <tr>\n",
              "      <th>1980-12-22</th>\n",
              "      <td>0.132254</td>\n",
              "      <td>0.132813</td>\n",
              "      <td>0.132254</td>\n",
              "      <td>0.132254</td>\n",
              "      <td>0.102614</td>\n",
              "      <td>37363200</td>\n",
              "    </tr>\n",
              "    <tr>\n",
              "      <th>1980-12-23</th>\n",
              "      <td>0.137835</td>\n",
              "      <td>0.138393</td>\n",
              "      <td>0.137835</td>\n",
              "      <td>0.137835</td>\n",
              "      <td>0.106945</td>\n",
              "      <td>46950400</td>\n",
              "    </tr>\n",
              "    <tr>\n",
              "      <th>1980-12-24</th>\n",
              "      <td>0.145089</td>\n",
              "      <td>0.145647</td>\n",
              "      <td>0.145089</td>\n",
              "      <td>0.145089</td>\n",
              "      <td>0.112573</td>\n",
              "      <td>48003200</td>\n",
              "    </tr>\n",
              "    <tr>\n",
              "      <th>1980-12-26</th>\n",
              "      <td>0.158482</td>\n",
              "      <td>0.159040</td>\n",
              "      <td>0.158482</td>\n",
              "      <td>0.158482</td>\n",
              "      <td>0.122964</td>\n",
              "      <td>55574400</td>\n",
              "    </tr>\n",
              "  </tbody>\n",
              "</table>\n",
              "</div>\n",
              "      <button class=\"colab-df-convert\" onclick=\"convertToInteractive('df-8b10808c-1c20-4ba4-ac09-765296e77898')\"\n",
              "              title=\"Convert this dataframe to an interactive table.\"\n",
              "              style=\"display:none;\">\n",
              "        \n",
              "  <svg xmlns=\"http://www.w3.org/2000/svg\" height=\"24px\"viewBox=\"0 0 24 24\"\n",
              "       width=\"24px\">\n",
              "    <path d=\"M0 0h24v24H0V0z\" fill=\"none\"/>\n",
              "    <path d=\"M18.56 5.44l.94 2.06.94-2.06 2.06-.94-2.06-.94-.94-2.06-.94 2.06-2.06.94zm-11 1L8.5 8.5l.94-2.06 2.06-.94-2.06-.94L8.5 2.5l-.94 2.06-2.06.94zm10 10l.94 2.06.94-2.06 2.06-.94-2.06-.94-.94-2.06-.94 2.06-2.06.94z\"/><path d=\"M17.41 7.96l-1.37-1.37c-.4-.4-.92-.59-1.43-.59-.52 0-1.04.2-1.43.59L10.3 9.45l-7.72 7.72c-.78.78-.78 2.05 0 2.83L4 21.41c.39.39.9.59 1.41.59.51 0 1.02-.2 1.41-.59l7.78-7.78 2.81-2.81c.8-.78.8-2.07 0-2.86zM5.41 20L4 18.59l7.72-7.72 1.47 1.35L5.41 20z\"/>\n",
              "  </svg>\n",
              "      </button>\n",
              "      \n",
              "  <style>\n",
              "    .colab-df-container {\n",
              "      display:flex;\n",
              "      flex-wrap:wrap;\n",
              "      gap: 12px;\n",
              "    }\n",
              "\n",
              "    .colab-df-convert {\n",
              "      background-color: #E8F0FE;\n",
              "      border: none;\n",
              "      border-radius: 50%;\n",
              "      cursor: pointer;\n",
              "      display: none;\n",
              "      fill: #1967D2;\n",
              "      height: 32px;\n",
              "      padding: 0 0 0 0;\n",
              "      width: 32px;\n",
              "    }\n",
              "\n",
              "    .colab-df-convert:hover {\n",
              "      background-color: #E2EBFA;\n",
              "      box-shadow: 0px 1px 2px rgba(60, 64, 67, 0.3), 0px 1px 3px 1px rgba(60, 64, 67, 0.15);\n",
              "      fill: #174EA6;\n",
              "    }\n",
              "\n",
              "    [theme=dark] .colab-df-convert {\n",
              "      background-color: #3B4455;\n",
              "      fill: #D2E3FC;\n",
              "    }\n",
              "\n",
              "    [theme=dark] .colab-df-convert:hover {\n",
              "      background-color: #434B5C;\n",
              "      box-shadow: 0px 1px 3px 1px rgba(0, 0, 0, 0.15);\n",
              "      filter: drop-shadow(0px 1px 2px rgba(0, 0, 0, 0.3));\n",
              "      fill: #FFFFFF;\n",
              "    }\n",
              "  </style>\n",
              "\n",
              "      <script>\n",
              "        const buttonEl =\n",
              "          document.querySelector('#df-8b10808c-1c20-4ba4-ac09-765296e77898 button.colab-df-convert');\n",
              "        buttonEl.style.display =\n",
              "          google.colab.kernel.accessAllowed ? 'block' : 'none';\n",
              "\n",
              "        async function convertToInteractive(key) {\n",
              "          const element = document.querySelector('#df-8b10808c-1c20-4ba4-ac09-765296e77898');\n",
              "          const dataTable =\n",
              "            await google.colab.kernel.invokeFunction('convertToInteractive',\n",
              "                                                     [key], {});\n",
              "          if (!dataTable) return;\n",
              "\n",
              "          const docLinkHtml = 'Like what you see? Visit the ' +\n",
              "            '<a target=\"_blank\" href=https://colab.research.google.com/notebooks/data_table.ipynb>data table notebook</a>'\n",
              "            + ' to learn more about interactive tables.';\n",
              "          element.innerHTML = '';\n",
              "          dataTable['output_type'] = 'display_data';\n",
              "          await google.colab.output.renderOutput(dataTable, element);\n",
              "          const docLink = document.createElement('div');\n",
              "          docLink.innerHTML = docLinkHtml;\n",
              "          element.appendChild(docLink);\n",
              "        }\n",
              "      </script>\n",
              "    </div>\n",
              "  </div>\n",
              "  "
            ]
          },
          "metadata": {},
          "execution_count": 16
        }
      ]
    },
    {
      "metadata": {
        "id": "06xfVbrD51Id"
      },
      "cell_type": "markdown",
      "source": [
        "The dataset is now complete and free of missing values. Let's have a look to the data frame summary:"
      ]
    },
    {
      "metadata": {
        "id": "TR3_R4OF8pNo"
      },
      "cell_type": "markdown",
      "source": [
        "## Feature scaling"
      ]
    },
    {
      "metadata": {
        "id": "hFwPXHiU8rDv"
      },
      "cell_type": "code",
      "source": [
        "training_set = close_prices.iloc[:, 1:2].values"
      ],
      "execution_count": 17,
      "outputs": []
    },
    {
      "metadata": {
        "id": "GvPn9l4d-NyM",
        "outputId": "ba570f3e-a23d-4343-feeb-af3fe69afbff",
        "colab": {
          "base_uri": "https://localhost:8080/"
        }
      },
      "cell_type": "code",
      "source": [
        "print(training_set)"
      ],
      "execution_count": 18,
      "outputs": [
        {
          "output_type": "stream",
          "name": "stdout",
          "text": [
            "[[1.28905997e-01]\n",
            " [1.22210003e-01]\n",
            " [1.13280997e-01]\n",
            " ...\n",
            " [1.84949997e+02]\n",
            " [1.80119995e+02]\n",
            " [1.81210007e+02]]\n"
          ]
        }
      ]
    },
    {
      "metadata": {
        "id": "c9TpiTPs9QtF",
        "outputId": "dd382bfa-a252-4ae0-e5ee-afc70f09e319",
        "colab": {
          "base_uri": "https://localhost:8080/"
        }
      },
      "cell_type": "code",
      "source": [
        "from sklearn.preprocessing import MinMaxScaler\n",
        "sc = MinMaxScaler(feature_range = (0, 1))\n",
        "training_set_scaled = sc.fit_transform(training_set)\n",
        "print(training_set_scaled.shape)"
      ],
      "execution_count": 19,
      "outputs": [
        {
          "output_type": "stream",
          "name": "stdout",
          "text": [
            "(10711, 1)\n"
          ]
        }
      ]
    },
    {
      "metadata": {
        "id": "NmYp53pYHeQu"
      },
      "cell_type": "markdown",
      "source": [
        "LSTMs expect the data in a specific format, usually a 3D tensor. I start by creating data with 60 days and converting it into an array using NumPy. Next, I convert the data into a 3D dimension array with feature_set samples, 60 days and one feature at each step."
      ]
    },
    {
      "metadata": {
        "id": "HSZBYUcIDfWV"
      },
      "cell_type": "code",
      "source": [
        "features = []\n",
        "labels = []\n",
        "for i in range(60, stock_data_len):\n",
        "    features.append(training_set_scaled[i-60:i, 0])\n",
        "    labels.append(training_set_scaled[i, 0])\n",
        "\n",
        "features = np.array(features)\n",
        "labels = np.array(labels)\n",
        "\n",
        "features = np.reshape(features, (features.shape[0], features.shape[1], 1))"
      ],
      "execution_count": 20,
      "outputs": []
    },
    {
      "metadata": {
        "id": "gi-GwAE_LDZm",
        "outputId": "5ba61272-4cd2-402b-9dad-afbecdc4adfa",
        "colab": {
          "base_uri": "https://localhost:8080/"
        }
      },
      "cell_type": "code",
      "source": [
        "print(labels)"
      ],
      "execution_count": 21,
      "outputs": [
        {
          "output_type": "stream",
          "name": "stdout",
          "text": [
            "[2.59550623e-04 2.77657678e-04 2.71621993e-04 ... 1.00000000e+00\n",
            " 9.73877809e-01 9.79772939e-01]\n"
          ]
        }
      ]
    },
    {
      "metadata": {
        "id": "atE8xU7HLuI2",
        "outputId": "07b89fbe-7daf-4662-aa30-727d7e8db14e",
        "colab": {
          "base_uri": "https://localhost:8080/"
        }
      },
      "cell_type": "code",
      "source": [
        "print(features)"
      ],
      "execution_count": 22,
      "outputs": [
        {
          "output_type": "stream",
          "name": "stdout",
          "text": [
            "[[[4.28560596e-04]\n",
            "  [3.92346527e-04]\n",
            "  [3.44055609e-04]\n",
            "  ...\n",
            "  [3.56126979e-04]\n",
            "  [3.04823679e-04]\n",
            "  [2.77657678e-04]]\n",
            "\n",
            " [[3.92346527e-04]\n",
            "  [3.44055609e-04]\n",
            "  [3.59144841e-04]\n",
            "  ...\n",
            "  [3.04823679e-04]\n",
            "  [2.77657678e-04]\n",
            "  [2.59550623e-04]]\n",
            "\n",
            " [[3.44055609e-04]\n",
            "  [3.59144841e-04]\n",
            "  [3.77257295e-04]\n",
            "  ...\n",
            "  [2.77657678e-04]\n",
            "  [2.59550623e-04]\n",
            "  [2.77657678e-04]]\n",
            "\n",
            " ...\n",
            "\n",
            " [[8.35532996e-01]\n",
            "  [8.16063097e-01]\n",
            "  [8.27961382e-01]\n",
            "  ...\n",
            "  [9.69713462e-01]\n",
            "  [9.73877809e-01]\n",
            "  [9.82855638e-01]]\n",
            "\n",
            " [[8.16063097e-01]\n",
            "  [8.27961382e-01]\n",
            "  [8.29367515e-01]\n",
            "  ...\n",
            "  [9.73877809e-01]\n",
            "  [9.82855638e-01]\n",
            "  [1.00000000e+00]]\n",
            "\n",
            " [[8.27961382e-01]\n",
            "  [8.29367515e-01]\n",
            "  [8.28556300e-01]\n",
            "  ...\n",
            "  [9.82855638e-01]\n",
            "  [1.00000000e+00]\n",
            "  [9.73877809e-01]]]\n"
          ]
        }
      ]
    },
    {
      "metadata": {
        "id": "tfK2gzVI_sTX"
      },
      "cell_type": "markdown",
      "source": [
        "Feature tensor with three dimension: features[0] contains the ..., features[1] contains the last 60 days of values and features [2] contains the  ..."
      ]
    },
    {
      "metadata": {
        "id": "VlzVripUIyCb",
        "outputId": "e35db665-c7bd-4e75-afb4-8202a5f7c80b",
        "colab": {
          "base_uri": "https://localhost:8080/"
        }
      },
      "cell_type": "code",
      "source": [
        "print(features.shape)"
      ],
      "execution_count": 23,
      "outputs": [
        {
          "output_type": "stream",
          "name": "stdout",
          "text": [
            "(10651, 60, 1)\n"
          ]
        }
      ]
    },
    {
      "metadata": {
        "id": "-MQYJqsDGFYA"
      },
      "cell_type": "markdown",
      "source": [
        "## Create the LSTM network\n",
        "Let's create a sequenced LSTM network with 50 units. Also the net includes some dropout layers with 0.2 which means that 20% of the neurons will be dropped."
      ]
    },
    {
      "metadata": {
        "id": "057FLdkzDk1t"
      },
      "cell_type": "code",
      "source": [
        "import tensorflow as tf"
      ],
      "execution_count": 24,
      "outputs": []
    },
    {
      "metadata": {
        "id": "Tel113HiEcYE"
      },
      "cell_type": "code",
      "source": [
        "model = tf.keras.models.Sequential([\n",
        "    tf.keras.layers.LSTM(units = 50, return_sequences = True, input_shape = (features.shape[1], 1)),\n",
        "    tf.keras.layers.Dropout(0.2),\n",
        "    tf.keras.layers.LSTM(units = 50, return_sequences = True),\n",
        "    tf.keras.layers.Dropout(0.2),\n",
        "    tf.keras.layers.LSTM(units = 50, return_sequences = True),\n",
        "    tf.keras.layers.Dropout(0.2),\n",
        "    tf.keras.layers.LSTM(units = 50),\n",
        "    tf.keras.layers.Dropout(0.2),\n",
        "    tf.keras.layers.Dense(units = 1)\n",
        "])"
      ],
      "execution_count": 25,
      "outputs": []
    },
    {
      "metadata": {
        "id": "7nlzkKHiPuaR",
        "outputId": "d3c75969-c611-4ebb-cf4c-0adaabd66c32",
        "colab": {
          "base_uri": "https://localhost:8080/"
        }
      },
      "cell_type": "code",
      "source": [
        "print(model.summary())"
      ],
      "execution_count": 26,
      "outputs": [
        {
          "output_type": "stream",
          "name": "stdout",
          "text": [
            "Model: \"sequential\"\n",
            "_________________________________________________________________\n",
            " Layer (type)                Output Shape              Param #   \n",
            "=================================================================\n",
            " lstm (LSTM)                 (None, 60, 50)            10400     \n",
            "                                                                 \n",
            " dropout (Dropout)           (None, 60, 50)            0         \n",
            "                                                                 \n",
            " lstm_1 (LSTM)               (None, 60, 50)            20200     \n",
            "                                                                 \n",
            " dropout_1 (Dropout)         (None, 60, 50)            0         \n",
            "                                                                 \n",
            " lstm_2 (LSTM)               (None, 60, 50)            20200     \n",
            "                                                                 \n",
            " dropout_2 (Dropout)         (None, 60, 50)            0         \n",
            "                                                                 \n",
            " lstm_3 (LSTM)               (None, 50)                20200     \n",
            "                                                                 \n",
            " dropout_3 (Dropout)         (None, 50)                0         \n",
            "                                                                 \n",
            " dense (Dense)               (None, 1)                 51        \n",
            "                                                                 \n",
            "=================================================================\n",
            "Total params: 71,051\n",
            "Trainable params: 71,051\n",
            "Non-trainable params: 0\n",
            "_________________________________________________________________\n",
            "None\n"
          ]
        }
      ]
    },
    {
      "metadata": {
        "id": "5W-xbus6hr3B"
      },
      "cell_type": "code",
      "source": [
        "#tf.keras.utils.plot_model(model, to_file='my_model.png')\n"
      ],
      "execution_count": 27,
      "outputs": []
    },
    {
      "metadata": {
        "id": "Dh55JJQwpK5-"
      },
      "cell_type": "code",
      "source": [
        "# Run tensorboard with the logdir\n",
        "#import os\n",
        "#LOG_BASE_DIR = './log'\n",
        "#os.makedirs(LOG_BASE_DIR, exist_ok=True)"
      ],
      "execution_count": 28,
      "outputs": []
    },
    {
      "metadata": {
        "id": "z8f8PuP0tuxv"
      },
      "cell_type": "code",
      "source": [
        "#!ls -l log"
      ],
      "execution_count": 29,
      "outputs": []
    },
    {
      "metadata": {
        "id": "MtpzRCsqvjnQ"
      },
      "cell_type": "markdown",
      "source": [
        "## Load the Colab TensorBoard extention and start TensorBoard inline"
      ]
    },
    {
      "metadata": {
        "id": "AxpGbuaSr9uc"
      },
      "cell_type": "code",
      "source": [
        "#%load_ext tensorboard.notebook\n",
        "#%tensorboard --logdir {LOG_BASE_DIR}"
      ],
      "execution_count": 30,
      "outputs": []
    },
    {
      "metadata": {
        "id": "KG7MP-S0oVAv"
      },
      "cell_type": "markdown",
      "source": [
        "## Define a TensorBoard callback"
      ]
    },
    {
      "metadata": {
        "id": "Ju7MktT7sX1s"
      },
      "cell_type": "code",
      "source": [
        "#import datetime\n",
        "#logdir = os.path.join(LOG_BASE_DIR, datetime.datetime.now().strftime(\"%Y%m%d-%H%M%S\"))"
      ],
      "execution_count": 31,
      "outputs": []
    },
    {
      "metadata": {
        "id": "eUl1ilfJnYrR"
      },
      "cell_type": "code",
      "source": [
        "#from tensorflow.keras.callbacks import TensorBoard\n",
        "\n",
        "#tbCallBack = TensorBoard(logdir,histogram_freq=1)"
      ],
      "execution_count": 32,
      "outputs": []
    },
    {
      "metadata": {
        "id": "TVtDPeEZGmqP"
      },
      "cell_type": "markdown",
      "source": [
        "The model will be compiled and optimize by the adam optimizer and set the loss function as mean_squarred_error"
      ]
    },
    {
      "metadata": {
        "id": "lj9k7R5UFrqO"
      },
      "cell_type": "code",
      "source": [
        "model.compile(optimizer = 'adam', loss = 'mean_squared_error')"
      ],
      "execution_count": 33,
      "outputs": []
    },
    {
      "metadata": {
        "id": "eW4rvRXENWYC"
      },
      "cell_type": "code",
      "source": [
        "#import os\n",
        "#print(os.environ)"
      ],
      "execution_count": 34,
      "outputs": []
    },
    {
      "metadata": {
        "id": "3pMuiSsIOAJa"
      },
      "cell_type": "code",
      "source": [
        "#tf.test.gpu_device_name()"
      ],
      "execution_count": 35,
      "outputs": []
    },
    {
      "metadata": {
        "id": "k3Od5nUSVlJ6"
      },
      "cell_type": "code",
      "source": [
        "#from tensorflow.python.client import device_lib\n",
        "#device_lib.list_local_devices()"
      ],
      "execution_count": 36,
      "outputs": []
    },
    {
      "metadata": {
        "id": "vdatQv4CTSvn",
        "outputId": "5ad7bd40-9028-43a4-8278-a09a62e18ce1",
        "colab": {
          "base_uri": "https://localhost:8080/"
        }
      },
      "cell_type": "code",
      "source": [
        "from time import time\n",
        "start = time()\n",
        "history = model.fit(features, labels, epochs = 20, batch_size = 32, verbose = 1)\n",
        "end = time()"
      ],
      "execution_count": 37,
      "outputs": [
        {
          "output_type": "stream",
          "name": "stdout",
          "text": [
            "Epoch 1/20\n",
            "333/333 [==============================] - 21s 14ms/step - loss: 0.0022\n",
            "Epoch 2/20\n",
            "333/333 [==============================] - 5s 16ms/step - loss: 9.0541e-04\n",
            "Epoch 3/20\n",
            "333/333 [==============================] - 4s 13ms/step - loss: 7.1480e-04\n",
            "Epoch 4/20\n",
            "333/333 [==============================] - 5s 14ms/step - loss: 6.0183e-04\n",
            "Epoch 5/20\n",
            "333/333 [==============================] - 5s 16ms/step - loss: 6.2858e-04\n",
            "Epoch 6/20\n",
            "333/333 [==============================] - 4s 13ms/step - loss: 6.6595e-04\n",
            "Epoch 7/20\n",
            "333/333 [==============================] - 5s 15ms/step - loss: 5.6561e-04\n",
            "Epoch 8/20\n",
            "333/333 [==============================] - 5s 15ms/step - loss: 5.0570e-04\n",
            "Epoch 9/20\n",
            "333/333 [==============================] - 5s 14ms/step - loss: 5.5434e-04\n",
            "Epoch 10/20\n",
            "333/333 [==============================] - 5s 15ms/step - loss: 5.1162e-04\n",
            "Epoch 11/20\n",
            "333/333 [==============================] - 5s 14ms/step - loss: 4.8702e-04\n",
            "Epoch 12/20\n",
            "333/333 [==============================] - 4s 13ms/step - loss: 5.2086e-04\n",
            "Epoch 13/20\n",
            "333/333 [==============================] - 5s 16ms/step - loss: 4.9270e-04\n",
            "Epoch 14/20\n",
            "333/333 [==============================] - 6s 18ms/step - loss: 4.8872e-04\n",
            "Epoch 15/20\n",
            "333/333 [==============================] - 5s 16ms/step - loss: 4.7985e-04\n",
            "Epoch 16/20\n",
            "333/333 [==============================] - 4s 13ms/step - loss: 4.4876e-04\n",
            "Epoch 17/20\n",
            "333/333 [==============================] - 5s 14ms/step - loss: 4.8786e-04\n",
            "Epoch 18/20\n",
            "333/333 [==============================] - 5s 16ms/step - loss: 4.7805e-04\n",
            "Epoch 19/20\n",
            "333/333 [==============================] - 5s 14ms/step - loss: 4.6098e-04\n",
            "Epoch 20/20\n",
            "333/333 [==============================] - 5s 16ms/step - loss: 4.8589e-04\n"
          ]
        }
      ]
    },
    {
      "metadata": {
        "id": "CMjYNddpWzrs",
        "outputId": "ecbbc4b3-780a-4a99-d695-007e6b353055",
        "colab": {
          "base_uri": "https://localhost:8080/"
        }
      },
      "cell_type": "code",
      "source": [
        "print('Total training time {} seconds'.format(end - start))"
      ],
      "execution_count": 38,
      "outputs": [
        {
          "output_type": "stream",
          "name": "stdout",
          "text": [
            "Total training time 151.98871564865112 seconds\n"
          ]
        }
      ]
    },
    {
      "metadata": {
        "id": "0jX-nM6dfJSp",
        "colab": {
          "base_uri": "https://localhost:8080/"
        },
        "outputId": "1c854651-438f-4fcf-cd46-797fe62dabf7"
      },
      "cell_type": "code",
      "source": [
        "#  [samples, days, features]\n",
        "print(features.shape)"
      ],
      "execution_count": 39,
      "outputs": [
        {
          "output_type": "stream",
          "name": "stdout",
          "text": [
            "(10651, 60, 1)\n"
          ]
        }
      ]
    },
    {
      "metadata": {
        "id": "yztm7-PfI_zx",
        "colab": {
          "base_uri": "https://localhost:8080/"
        },
        "outputId": "bbdc35fe-d994-4ba4-eb73-98d8f08c0230"
      },
      "cell_type": "code",
      "source": [
        "testing_start_date = '2019-01-01'\n",
        "testing_end_date = '2019-04-10'\n",
        "\n",
        "test_stock_data = pdr.get_data_yahoo(tickers, testing_start_date, testing_end_date)"
      ],
      "execution_count": 40,
      "outputs": [
        {
          "output_type": "stream",
          "name": "stdout",
          "text": [
            "\r[*********************100%***********************]  1 of 1 completed\n"
          ]
        }
      ]
    },
    {
      "metadata": {
        "id": "VXVbTnlWd1iY",
        "colab": {
          "base_uri": "https://localhost:8080/",
          "height": 238
        },
        "outputId": "fb5a91f0-34fb-459d-eaa1-525e52b87536"
      },
      "cell_type": "code",
      "source": [
        "test_stock_data.tail()"
      ],
      "execution_count": 41,
      "outputs": [
        {
          "output_type": "execute_result",
          "data": {
            "text/plain": [
              "                 Open       High        Low      Close  Adj Close     Volume\n",
              "Date                                                                        \n",
              "2019-04-03  48.312500  49.125000  48.287498  48.837502  47.201477   93087200\n",
              "2019-04-04  48.697498  49.092499  48.285000  48.922501  47.283627   76457200\n",
              "2019-04-05  49.112499  49.275002  48.982498  49.250000  47.600163   74106400\n",
              "2019-04-08  49.105000  50.057499  49.084999  50.025002  48.349205  103526800\n",
              "2019-04-09  50.080002  50.712502  49.807499  49.875000  48.204224  143072800"
            ],
            "text/html": [
              "\n",
              "  <div id=\"df-370f7006-6e23-4c50-8333-b5f45df1510b\">\n",
              "    <div class=\"colab-df-container\">\n",
              "      <div>\n",
              "<style scoped>\n",
              "    .dataframe tbody tr th:only-of-type {\n",
              "        vertical-align: middle;\n",
              "    }\n",
              "\n",
              "    .dataframe tbody tr th {\n",
              "        vertical-align: top;\n",
              "    }\n",
              "\n",
              "    .dataframe thead th {\n",
              "        text-align: right;\n",
              "    }\n",
              "</style>\n",
              "<table border=\"1\" class=\"dataframe\">\n",
              "  <thead>\n",
              "    <tr style=\"text-align: right;\">\n",
              "      <th></th>\n",
              "      <th>Open</th>\n",
              "      <th>High</th>\n",
              "      <th>Low</th>\n",
              "      <th>Close</th>\n",
              "      <th>Adj Close</th>\n",
              "      <th>Volume</th>\n",
              "    </tr>\n",
              "    <tr>\n",
              "      <th>Date</th>\n",
              "      <th></th>\n",
              "      <th></th>\n",
              "      <th></th>\n",
              "      <th></th>\n",
              "      <th></th>\n",
              "      <th></th>\n",
              "    </tr>\n",
              "  </thead>\n",
              "  <tbody>\n",
              "    <tr>\n",
              "      <th>2019-04-03</th>\n",
              "      <td>48.312500</td>\n",
              "      <td>49.125000</td>\n",
              "      <td>48.287498</td>\n",
              "      <td>48.837502</td>\n",
              "      <td>47.201477</td>\n",
              "      <td>93087200</td>\n",
              "    </tr>\n",
              "    <tr>\n",
              "      <th>2019-04-04</th>\n",
              "      <td>48.697498</td>\n",
              "      <td>49.092499</td>\n",
              "      <td>48.285000</td>\n",
              "      <td>48.922501</td>\n",
              "      <td>47.283627</td>\n",
              "      <td>76457200</td>\n",
              "    </tr>\n",
              "    <tr>\n",
              "      <th>2019-04-05</th>\n",
              "      <td>49.112499</td>\n",
              "      <td>49.275002</td>\n",
              "      <td>48.982498</td>\n",
              "      <td>49.250000</td>\n",
              "      <td>47.600163</td>\n",
              "      <td>74106400</td>\n",
              "    </tr>\n",
              "    <tr>\n",
              "      <th>2019-04-08</th>\n",
              "      <td>49.105000</td>\n",
              "      <td>50.057499</td>\n",
              "      <td>49.084999</td>\n",
              "      <td>50.025002</td>\n",
              "      <td>48.349205</td>\n",
              "      <td>103526800</td>\n",
              "    </tr>\n",
              "    <tr>\n",
              "      <th>2019-04-09</th>\n",
              "      <td>50.080002</td>\n",
              "      <td>50.712502</td>\n",
              "      <td>49.807499</td>\n",
              "      <td>49.875000</td>\n",
              "      <td>48.204224</td>\n",
              "      <td>143072800</td>\n",
              "    </tr>\n",
              "  </tbody>\n",
              "</table>\n",
              "</div>\n",
              "      <button class=\"colab-df-convert\" onclick=\"convertToInteractive('df-370f7006-6e23-4c50-8333-b5f45df1510b')\"\n",
              "              title=\"Convert this dataframe to an interactive table.\"\n",
              "              style=\"display:none;\">\n",
              "        \n",
              "  <svg xmlns=\"http://www.w3.org/2000/svg\" height=\"24px\"viewBox=\"0 0 24 24\"\n",
              "       width=\"24px\">\n",
              "    <path d=\"M0 0h24v24H0V0z\" fill=\"none\"/>\n",
              "    <path d=\"M18.56 5.44l.94 2.06.94-2.06 2.06-.94-2.06-.94-.94-2.06-.94 2.06-2.06.94zm-11 1L8.5 8.5l.94-2.06 2.06-.94-2.06-.94L8.5 2.5l-.94 2.06-2.06.94zm10 10l.94 2.06.94-2.06 2.06-.94-2.06-.94-.94-2.06-.94 2.06-2.06.94z\"/><path d=\"M17.41 7.96l-1.37-1.37c-.4-.4-.92-.59-1.43-.59-.52 0-1.04.2-1.43.59L10.3 9.45l-7.72 7.72c-.78.78-.78 2.05 0 2.83L4 21.41c.39.39.9.59 1.41.59.51 0 1.02-.2 1.41-.59l7.78-7.78 2.81-2.81c.8-.78.8-2.07 0-2.86zM5.41 20L4 18.59l7.72-7.72 1.47 1.35L5.41 20z\"/>\n",
              "  </svg>\n",
              "      </button>\n",
              "      \n",
              "  <style>\n",
              "    .colab-df-container {\n",
              "      display:flex;\n",
              "      flex-wrap:wrap;\n",
              "      gap: 12px;\n",
              "    }\n",
              "\n",
              "    .colab-df-convert {\n",
              "      background-color: #E8F0FE;\n",
              "      border: none;\n",
              "      border-radius: 50%;\n",
              "      cursor: pointer;\n",
              "      display: none;\n",
              "      fill: #1967D2;\n",
              "      height: 32px;\n",
              "      padding: 0 0 0 0;\n",
              "      width: 32px;\n",
              "    }\n",
              "\n",
              "    .colab-df-convert:hover {\n",
              "      background-color: #E2EBFA;\n",
              "      box-shadow: 0px 1px 2px rgba(60, 64, 67, 0.3), 0px 1px 3px 1px rgba(60, 64, 67, 0.15);\n",
              "      fill: #174EA6;\n",
              "    }\n",
              "\n",
              "    [theme=dark] .colab-df-convert {\n",
              "      background-color: #3B4455;\n",
              "      fill: #D2E3FC;\n",
              "    }\n",
              "\n",
              "    [theme=dark] .colab-df-convert:hover {\n",
              "      background-color: #434B5C;\n",
              "      box-shadow: 0px 1px 3px 1px rgba(0, 0, 0, 0.15);\n",
              "      filter: drop-shadow(0px 1px 2px rgba(0, 0, 0, 0.3));\n",
              "      fill: #FFFFFF;\n",
              "    }\n",
              "  </style>\n",
              "\n",
              "      <script>\n",
              "        const buttonEl =\n",
              "          document.querySelector('#df-370f7006-6e23-4c50-8333-b5f45df1510b button.colab-df-convert');\n",
              "        buttonEl.style.display =\n",
              "          google.colab.kernel.accessAllowed ? 'block' : 'none';\n",
              "\n",
              "        async function convertToInteractive(key) {\n",
              "          const element = document.querySelector('#df-370f7006-6e23-4c50-8333-b5f45df1510b');\n",
              "          const dataTable =\n",
              "            await google.colab.kernel.invokeFunction('convertToInteractive',\n",
              "                                                     [key], {});\n",
              "          if (!dataTable) return;\n",
              "\n",
              "          const docLinkHtml = 'Like what you see? Visit the ' +\n",
              "            '<a target=\"_blank\" href=https://colab.research.google.com/notebooks/data_table.ipynb>data table notebook</a>'\n",
              "            + ' to learn more about interactive tables.';\n",
              "          element.innerHTML = '';\n",
              "          dataTable['output_type'] = 'display_data';\n",
              "          await google.colab.output.renderOutput(dataTable, element);\n",
              "          const docLink = document.createElement('div');\n",
              "          docLink.innerHTML = docLinkHtml;\n",
              "          element.appendChild(docLink);\n",
              "        }\n",
              "      </script>\n",
              "    </div>\n",
              "  </div>\n",
              "  "
            ]
          },
          "metadata": {},
          "execution_count": 41
        }
      ]
    },
    {
      "metadata": {
        "id": "1iaY63cEJzTD"
      },
      "cell_type": "code",
      "source": [
        "test_stock_data_processed = test_stock_data.iloc[:, 1:2].values\n"
      ],
      "execution_count": 42,
      "outputs": []
    },
    {
      "metadata": {
        "id": "QdBH51wlaost",
        "colab": {
          "base_uri": "https://localhost:8080/"
        },
        "outputId": "d2471dcb-49ec-4e73-98af-19ecc6cdb022"
      },
      "cell_type": "code",
      "source": [
        "print(test_stock_data_processed.shape)"
      ],
      "execution_count": 43,
      "outputs": [
        {
          "output_type": "stream",
          "name": "stdout",
          "text": [
            "(68, 1)\n"
          ]
        }
      ]
    },
    {
      "metadata": {
        "id": "q66EIEAXb1Pw"
      },
      "cell_type": "code",
      "source": [
        "all_stock_data = pd.concat((stock_data['Close'], test_stock_data['Close']), axis = 0)"
      ],
      "execution_count": 44,
      "outputs": []
    },
    {
      "metadata": {
        "id": "ugpDI3hkc8Eo"
      },
      "cell_type": "code",
      "source": [
        "inputs = all_stock_data[len(all_stock_data) - len(test_stock_data) - 60:].values\n",
        "inputs = inputs.reshape(-1,1)\n",
        "inputs = sc.transform(inputs)"
      ],
      "execution_count": 45,
      "outputs": []
    },
    {
      "metadata": {
        "id": "EMsXM9nEdDXS"
      },
      "cell_type": "code",
      "source": [
        "X_test = []\n",
        "for i in range(60, 129):\n",
        "    X_test.append(inputs[i-60:i, 0])"
      ],
      "execution_count": 46,
      "outputs": []
    },
    {
      "metadata": {
        "id": "JBo5fWfwek9K",
        "colab": {
          "base_uri": "https://localhost:8080/"
        },
        "outputId": "f1e24d3c-0486-408f-bf1a-4e44458179ab"
      },
      "cell_type": "code",
      "source": [
        "X_test = np.array(X_test)\n",
        "X_test = np.reshape(X_test, (X_test.shape[0], X_test.shape[1], 1))\n",
        "predicted_stock_price = model.predict(X_test)\n",
        "predicted_stock_price = sc.inverse_transform(predicted_stock_price)"
      ],
      "execution_count": 47,
      "outputs": [
        {
          "output_type": "stream",
          "name": "stdout",
          "text": [
            "3/3 [==============================] - 2s 9ms/step\n"
          ]
        }
      ]
    },
    {
      "metadata": {
        "id": "EuEl7MRrdLUK",
        "colab": {
          "base_uri": "https://localhost:8080/",
          "height": 564
        },
        "outputId": "d728ab4f-188e-44d4-e96e-316b49f56606"
      },
      "cell_type": "code",
      "source": [
        "plt.figure(figsize=(10,6))  \n",
        "plt.plot(test_stock_data_processed, color='blue', label='Actual Apple Stock Price')  \n",
        "plt.plot(predicted_stock_price , color='red', label='Predicted Apple Stock Price')  \n",
        "plt.title('Apple Stock Price Prediction')  \n",
        "plt.xlabel('Date')  \n",
        "plt.ylabel('Apple Stock Price')  \n",
        "plt.legend()  \n",
        "plt.show()  "
      ],
      "execution_count": 48,
      "outputs": [
        {
          "output_type": "display_data",
          "data": {
            "text/plain": [
              "<Figure size 1000x600 with 1 Axes>"
            ],
            "image/png": "[encoded data removed]"
          },
          "metadata": {}
        }
      ]
    },
    {
      "metadata": {
        "id": "IgIl5LKMKgU4",
        "colab": {
          "base_uri": "https://localhost:8080/"
        },
        "outputId": "bb2d297a-a240-4366-c750-184a429f0f3f"
      },
      "cell_type": "code",
      "source": [
        "#inputs = inputs.reshape(-1,1)\n",
        "#inputs = sc.transform(inputs)\n",
        "\n",
        "\n",
        "test_inputs = test_stock_data_processed.reshape(-1,1)\n",
        "test_inputs = sc.transform(test_inputs)\n",
        "\n",
        "\n",
        "print(test_inputs.shape)"
      ],
      "execution_count": 49,
      "outputs": [
        {
          "output_type": "stream",
          "name": "stdout",
          "text": [
            "(68, 1)\n"
          ]
        }
      ]
    },
    {
      "metadata": {
        "id": "1o-fpVjsdPiR",
        "colab": {
          "base_uri": "https://localhost:8080/"
        },
        "outputId": "f5d5359b-340d-403b-f0e4-f9f2580c9d96"
      },
      "cell_type": "code",
      "source": [
        "test_features = []\n",
        "for i in range(60, 291):\n",
        "    test_features.append(test_inputs[i-60:i, 0])\n",
        "    \n",
        "test_features = np.array(test_features)"
      ],
      "execution_count": 50,
      "outputs": [
        {
          "output_type": "stream",
          "name": "stderr",
          "text": [
            "<ipython-input-50-f283a14c8d89>:5: VisibleDeprecationWarning: Creating an ndarray from ragged nested sequences (which is a list-or-tuple of lists-or-tuples-or ndarrays with different lengths or shapes) is deprecated. If you meant to do this, you must specify 'dtype=object' when creating the ndarray.\n",
            "  test_features = np.array(test_features)\n"
          ]
        }
      ]
    },
    {
      "metadata": {
        "id": "EFQQ4Hkhcp2b",
        "colab": {
          "base_uri": "https://localhost:8080/",
          "height": 187
        },
        "outputId": "4987ffea-707c-49df-d3d4-b74af2314d6a"
      },
      "cell_type": "code",
      "source": [
        "test_features = np.reshape(test_features, (test_features.shape[0], test_features.shape[1], 1))  \n",
        "print(test_features.shape)"
      ],
      "execution_count": 51,
      "outputs": [
        {
          "output_type": "error",
          "ename": "IndexError",
          "evalue": "ignored",
          "traceback": [
            "\u001b[0;31m---------------------------------------------------------------------------\u001b[0m",
            "\u001b[0;31mIndexError\u001b[0m                                Traceback (most recent call last)",
            "\u001b[0;32m<ipython-input-51-21daf5cef9a2>\u001b[0m in \u001b[0;36m<cell line: 1>\u001b[0;34m()\u001b[0m\n\u001b[0;32m----> 1\u001b[0;31m \u001b[0mtest_features\u001b[0m \u001b[0;34m=\u001b[0m \u001b[0mnp\u001b[0m\u001b[0;34m.\u001b[0m\u001b[0mreshape\u001b[0m\u001b[0;34m(\u001b[0m\u001b[0mtest_features\u001b[0m\u001b[0;34m,\u001b[0m \u001b[0;34m(\u001b[0m\u001b[0mtest_features\u001b[0m\u001b[0;34m.\u001b[0m\u001b[0mshape\u001b[0m\u001b[0;34m[\u001b[0m\u001b[0;36m0\u001b[0m\u001b[0;34m]\u001b[0m\u001b[0;34m,\u001b[0m \u001b[0mtest_features\u001b[0m\u001b[0;34m.\u001b[0m\u001b[0mshape\u001b[0m\u001b[0;34m[\u001b[0m\u001b[0;36m1\u001b[0m\u001b[0;34m]\u001b[0m\u001b[0;34m,\u001b[0m \u001b[0;36m1\u001b[0m\u001b[0;34m)\u001b[0m\u001b[0;34m)\u001b[0m\u001b[0;34m\u001b[0m\u001b[0;34m\u001b[0m\u001b[0m\n\u001b[0m\u001b[1;32m      2\u001b[0m \u001b[0mprint\u001b[0m\u001b[0;34m(\u001b[0m\u001b[0mtest_features\u001b[0m\u001b[0;34m.\u001b[0m\u001b[0mshape\u001b[0m\u001b[0;34m)\u001b[0m\u001b[0;34m\u001b[0m\u001b[0;34m\u001b[0m\u001b[0m\n",
            "\u001b[0;31mIndexError\u001b[0m: tuple index out of range"
          ]
        }
      ]
    },
    {
      "metadata": {
        "id": "TkGzHUBzKuGl"
      },
      "cell_type": "code",
      "source": [
        "predicted_stock_price = model.predict(test_features)"
      ],
      "execution_count": null,
      "outputs": []
    },
    {
      "metadata": {
        "id": "FZ4hDjOXgmBX"
      },
      "cell_type": "code",
      "source": [
        "predicted_stock_price = sc.inverse_transform(predicted_stock_price)\n",
        "print(predicted_stock_price.shape)"
      ],
      "execution_count": null,
      "outputs": []
    },
    {
      "metadata": {
        "id": "Fz-mr1dT1Omh"
      },
      "cell_type": "code",
      "source": [
        "print(test_stock_data_processed.shape)"
      ],
      "execution_count": null,
      "outputs": []
    },
    {
      "metadata": {
        "id": "Alsqt3-lgsfj"
      },
      "cell_type": "code",
      "source": [
        "plt.figure(figsize=(10,6))  \n",
        "plt.plot(test_stock_data_processed, color='blue', label='Actual Apple Stock Price')  \n",
        "plt.plot(predicted_stock_price , color='red', label='Predicted Apple Stock Price')  \n",
        "plt.title('Apple Stock Price Prediction')  \n",
        "plt.xlabel('Date')  \n",
        "plt.ylabel('Apple Stock Price')  \n",
        "plt.legend()  \n",
        "plt.show()  "
      ],
      "execution_count": null,
      "outputs": []
    },
    {
      "metadata": {
        "id": "mPYS78ikjcIa"
      },
      "cell_type": "markdown",
      "source": [
        "## Download the model and the weights"
      ]
    },
    {
      "metadata": {
        "id": "knvmvzsZjN1r"
      },
      "cell_type": "code",
      "source": [
        "from google.colab import files"
      ],
      "execution_count": null,
      "outputs": []
    },
    {
      "metadata": {
        "id": "zlfsWuIPi48Y"
      },
      "cell_type": "code",
      "source": [
        "model_json = model.to_json()\n",
        "with open(\"model.json\", \"w\") as json_file:\n",
        "  json_file.write(model_json)"
      ],
      "execution_count": null,
      "outputs": []
    },
    {
      "metadata": {
        "id": "t_Zig-9ojIQK"
      },
      "cell_type": "code",
      "source": [
        "files.download(\"model.json\")"
      ],
      "execution_count": null,
      "outputs": []
    },
    {
      "metadata": {
        "id": "VQBt2bNCjVGb"
      },
      "cell_type": "code",
      "source": [
        "model.save('weights.h5')\n",
        "files.download('weights.h5')"
      ],
      "execution_count": null,
      "outputs": []
    }
  ]
}