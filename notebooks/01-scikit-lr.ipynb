{
 "cells": [
  {
   "cell_type": "markdown",
   "id": "74aa3d30-f9f7-4eff-b45e-2bec35783a3c",
   "metadata": {},
   "source": [
    "# Stock Prediction w/scikit learn"
   ]
  },
  {
   "cell_type": "markdown",
   "id": "e771d3c3-4304-4d18-aa08-9c8d79fdf24e",
   "metadata": {},
   "source": [
    "#### https://enlight.nyc/projects/stock-market-prediction"
   ]
  },
  {
   "cell_type": "code",
   "execution_count": 1,
   "id": "8c51d790-6470-4b16-9c82-32952a85ec37",
   "metadata": {},
   "outputs": [],
   "source": [
    "!pip install skl2onnx -q"
   ]
  },
  {
   "cell_type": "code",
   "execution_count": 2,
   "id": "cfab5e0a-5d79-4ae2-b2f6-9c5553bf7341",
   "metadata": {},
   "outputs": [],
   "source": [
    "import pandas as pd\n",
    "import numpy as np\n",
    "import datetime\n",
    "import matplotlib.pyplot as plt\n",
    "\n",
    "# import quandl\n",
    "\n",
    "from sklearn.linear_model import LinearRegression\n",
    "from sklearn import preprocessing, svm\n",
    "from sklearn.model_selection import train_test_split"
   ]
  },
  {
   "cell_type": "code",
   "execution_count": 3,
   "id": "188ba27c-5733-4535-a8ee-940c9f4e038a",
   "metadata": {},
   "outputs": [],
   "source": [
    "# df = pd.read_csv('data/MUFG-orig.csv')\n",
    "df = pd.read_csv('../data/MUFG-orig.csv')"
   ]
  },
  {
   "cell_type": "code",
   "execution_count": 4,
   "id": "62fba0c1-4ec6-4356-9eea-ea06d9181e1b",
   "metadata": {},
   "outputs": [
    {
     "data": {
      "text/html": [
       "<div>\n",
       "<style scoped>\n",
       "    .dataframe tbody tr th:only-of-type {\n",
       "        vertical-align: middle;\n",
       "    }\n",
       "\n",
       "    .dataframe tbody tr th {\n",
       "        vertical-align: top;\n",
       "    }\n",
       "\n",
       "    .dataframe thead th {\n",
       "        text-align: right;\n",
       "    }\n",
       "</style>\n",
       "<table border=\"1\" class=\"dataframe\">\n",
       "  <thead>\n",
       "    <tr style=\"text-align: right;\">\n",
       "      <th></th>\n",
       "      <th>Date</th>\n",
       "      <th>Open</th>\n",
       "      <th>High</th>\n",
       "      <th>Low</th>\n",
       "      <th>Close</th>\n",
       "      <th>Adj Close</th>\n",
       "      <th>Volume</th>\n",
       "    </tr>\n",
       "  </thead>\n",
       "  <tbody>\n",
       "    <tr>\n",
       "      <th>0</th>\n",
       "      <td>2022-05-16</td>\n",
       "      <td>5.80</td>\n",
       "      <td>5.83</td>\n",
       "      <td>5.73</td>\n",
       "      <td>5.79</td>\n",
       "      <td>5.79</td>\n",
       "      <td>2970200</td>\n",
       "    </tr>\n",
       "    <tr>\n",
       "      <th>1</th>\n",
       "      <td>2022-05-17</td>\n",
       "      <td>5.58</td>\n",
       "      <td>5.65</td>\n",
       "      <td>5.58</td>\n",
       "      <td>5.61</td>\n",
       "      <td>5.61</td>\n",
       "      <td>3033900</td>\n",
       "    </tr>\n",
       "    <tr>\n",
       "      <th>2</th>\n",
       "      <td>2022-05-18</td>\n",
       "      <td>5.63</td>\n",
       "      <td>5.63</td>\n",
       "      <td>5.55</td>\n",
       "      <td>5.59</td>\n",
       "      <td>5.59</td>\n",
       "      <td>4419200</td>\n",
       "    </tr>\n",
       "    <tr>\n",
       "      <th>3</th>\n",
       "      <td>2022-05-19</td>\n",
       "      <td>5.57</td>\n",
       "      <td>5.61</td>\n",
       "      <td>5.56</td>\n",
       "      <td>5.59</td>\n",
       "      <td>5.59</td>\n",
       "      <td>3823000</td>\n",
       "    </tr>\n",
       "    <tr>\n",
       "      <th>4</th>\n",
       "      <td>2022-05-20</td>\n",
       "      <td>5.64</td>\n",
       "      <td>5.68</td>\n",
       "      <td>5.58</td>\n",
       "      <td>5.66</td>\n",
       "      <td>5.66</td>\n",
       "      <td>4595800</td>\n",
       "    </tr>\n",
       "  </tbody>\n",
       "</table>\n",
       "</div>"
      ],
      "text/plain": [
       "         Date  Open  High   Low  Close  Adj Close   Volume\n",
       "0  2022-05-16  5.80  5.83  5.73   5.79       5.79  2970200\n",
       "1  2022-05-17  5.58  5.65  5.58   5.61       5.61  3033900\n",
       "2  2022-05-18  5.63  5.63  5.55   5.59       5.59  4419200\n",
       "3  2022-05-19  5.57  5.61  5.56   5.59       5.59  3823000\n",
       "4  2022-05-20  5.64  5.68  5.58   5.66       5.66  4595800"
      ]
     },
     "execution_count": 4,
     "metadata": {},
     "output_type": "execute_result"
    }
   ],
   "source": [
    "df.head()"
   ]
  },
  {
   "cell_type": "code",
   "execution_count": 5,
   "id": "b191c07c-175a-4961-87ef-d1a1ec0bcad4",
   "metadata": {},
   "outputs": [],
   "source": [
    "df = df[['Adj Close']]"
   ]
  },
  {
   "cell_type": "code",
   "execution_count": 6,
   "id": "17e82f5a-3792-4452-a366-8a3e908c429b",
   "metadata": {},
   "outputs": [],
   "source": [
    "forecast_out = int(30) # predicting 30 days into future\n",
    "df['Prediction'] = df[['Adj Close']].shift(-forecast_out) #  label column with data shifted 30 units up"
   ]
  },
  {
   "cell_type": "code",
   "execution_count": 8,
   "id": "09252ede-3ef3-42ee-975e-04deb095b79b",
   "metadata": {},
   "outputs": [],
   "source": [
    "X = np.array(df.drop(['Prediction'], axis=1))\n",
    "X_raw = X\n",
    "X = preprocessing.scale(X)"
   ]
  },
  {
   "cell_type": "markdown",
   "id": "c6c7974c-da86-4899-959b-bb756ecd6ef4",
   "metadata": {},
   "source": [
    "### Set a new input variable to these days and remove them from the X array."
   ]
  },
  {
   "cell_type": "code",
   "execution_count": 9,
   "id": "c44b9195-3eed-4dde-8a55-c2fcd3d57b83",
   "metadata": {},
   "outputs": [],
   "source": [
    "X_forecast = X[-forecast_out:] # set X_forecast equal to last 30\n",
    "X = X[:-forecast_out] # remove last 30 from X"
   ]
  },
  {
   "cell_type": "markdown",
   "id": "96e6bfd7-e38b-4039-a445-ef70d86395ff",
   "metadata": {},
   "source": [
    "### To define our y, or output, we will set it equal to our array of the Prediction values and remove the last 30 days where we don’t have any pricing data."
   ]
  },
  {
   "cell_type": "code",
   "execution_count": 10,
   "id": "db191842-1846-4206-bafb-3f1f452a118f",
   "metadata": {},
   "outputs": [],
   "source": [
    "y = np.array(df['Prediction'])\n",
    "y = y[:-forecast_out]"
   ]
  },
  {
   "cell_type": "markdown",
   "id": "b6e1df17-660f-4318-a8af-e806238bd737",
   "metadata": {},
   "source": [
    "## Linear regression model"
   ]
  },
  {
   "cell_type": "markdown",
   "id": "6dea64af-028b-40c1-8c0a-f098717438b7",
   "metadata": {},
   "source": [
    "### Split the data into training and test sets."
   ]
  },
  {
   "cell_type": "code",
   "execution_count": 11,
   "id": "733aec0c-30e5-4ec9-87c1-2e935d530fba",
   "metadata": {},
   "outputs": [],
   "source": [
    "X_train, X_test, y_train, y_test = train_test_split(X, y, test_size = 0.2)"
   ]
  },
  {
   "cell_type": "code",
   "execution_count": 12,
   "id": "860835b4-8038-4f9c-8384-0461c7e16a1f",
   "metadata": {},
   "outputs": [
    {
     "name": "stdout",
     "output_type": "stream",
     "text": [
      "confidence:  0.34169556872869944\n"
     ]
    }
   ],
   "source": [
    "# Training\n",
    "clf = LinearRegression()\n",
    "clf.fit(X_train,y_train)\n",
    "# Testing\n",
    "confidence = clf.score(X_test, y_test)\n",
    "print(\"confidence: \", confidence)"
   ]
  },
  {
   "cell_type": "code",
   "execution_count": 13,
   "id": "221ed16e-b5d2-49c9-86d1-4e3d42de272e",
   "metadata": {},
   "outputs": [
    {
     "name": "stderr",
     "output_type": "stream",
     "text": [
      "/Users/bkozdemb/venv-tmp/lib/python3.9/site-packages/skl2onnx/algebra/onnx_ops.py:159: UserWarning: OpSchema.FormalParameter.typeStr is deprecated and will be removed in 1.16. Use OpSchema.FormalParameter.type_str instead.\n",
      "  tys = obj.typeStr or ''\n",
      "/Users/bkozdemb/venv-tmp/lib/python3.9/site-packages/skl2onnx/algebra/automation.py:154: UserWarning: OpSchema.FormalParameter.isHomogeneous is deprecated and will be removed in 1.16. Use OpSchema.FormalParameter.is_homogeneous instead.\n",
      "  if getattr(obj, 'isHomogeneous', False):\n",
      "/Users/bkozdemb/venv-tmp/lib/python3.9/site-packages/jinja2/environment.py:485: UserWarning: OpSchema.FormalParameter.typeStr is deprecated and will be removed in 1.16. Use OpSchema.FormalParameter.type_str instead.\n",
      "  return getattr(obj, attribute)\n"
     ]
    }
   ],
   "source": [
    "from skl2onnx import convert_sklearn\n",
    "from skl2onnx.common.data_types import FloatTensorType\n",
    "initial_type = [('float_input', FloatTensorType([1]))]\n",
    "onx = convert_sklearn(clf, initial_types=initial_type)\n",
    "with open(\"stocks.onnx\", \"wb\") as f:\n",
    "    f.write(onx.SerializeToString())"
   ]
  },
  {
   "cell_type": "code",
   "execution_count": 14,
   "id": "05c06646-25e1-417b-8b6e-3865591569e3",
   "metadata": {},
   "outputs": [
    {
     "name": "stdout",
     "output_type": "stream",
     "text": [
      "[6.28173234 6.26382957 6.2518944  6.2518944  6.23995922 6.28173234\n",
      " 6.2518944  6.26979716 6.29963511 6.34737581 6.34737581 6.41301929\n",
      " 6.32947305 6.26979716 6.23399163 6.16238057 6.18028333 6.28769993\n",
      " 6.16834815 6.17431574 6.07286674 6.04302879 6.00722326 6.17431574\n",
      " 6.18625092 6.23399163 6.21608886 6.25786198 6.24592681 6.45777621]\n"
     ]
    }
   ],
   "source": [
    "forecast_prediction = clf.predict(X_forecast)\n",
    "print(forecast_prediction)"
   ]
  },
  {
   "cell_type": "code",
   "execution_count": 15,
   "id": "4230fedb-60f7-450f-b6ea-0ea46895c5a3",
   "metadata": {},
   "outputs": [
    {
     "data": {
      "text/plain": [
       "array([[5.79],\n",
       "       [5.61],\n",
       "       [5.59],\n",
       "       [5.59],\n",
       "       [5.66],\n",
       "       [5.82],\n",
       "       [5.84],\n",
       "       [5.85],\n",
       "       [5.92],\n",
       "       [5.9 ],\n",
       "       [5.67],\n",
       "       [5.72],\n",
       "       [5.75],\n",
       "       [5.67],\n",
       "       [5.68],\n",
       "       [5.7 ],\n",
       "       [5.54],\n",
       "       [5.48],\n",
       "       [5.42],\n",
       "       [5.44],\n",
       "       [5.46],\n",
       "       [5.54],\n",
       "       [5.59],\n",
       "       [5.39],\n",
       "       [5.58],\n",
       "       [5.52],\n",
       "       [5.48],\n",
       "       [5.54],\n",
       "       [5.47],\n",
       "       [5.46],\n",
       "       [5.42],\n",
       "       [5.34],\n",
       "       [5.43],\n",
       "       [5.39],\n",
       "       [5.25],\n",
       "       [5.33],\n",
       "       [5.4 ],\n",
       "       [5.4 ],\n",
       "       [5.38],\n",
       "       [5.35],\n",
       "       [5.13],\n",
       "       [5.15],\n",
       "       [5.17],\n",
       "       [5.29],\n",
       "       [5.26],\n",
       "       [5.28],\n",
       "       [5.32],\n",
       "       [5.41],\n",
       "       [5.4 ],\n",
       "       [5.51],\n",
       "       [5.51],\n",
       "       [5.67],\n",
       "       [5.67],\n",
       "       [5.51],\n",
       "       [5.43],\n",
       "       [5.26],\n",
       "       [5.29],\n",
       "       [5.31],\n",
       "       [5.23],\n",
       "       [5.37],\n",
       "       [5.39],\n",
       "       [5.45],\n",
       "       [5.42],\n",
       "       [5.4 ],\n",
       "       [5.4 ],\n",
       "       [5.39],\n",
       "       [5.29],\n",
       "       [5.25],\n",
       "       [5.27],\n",
       "       [5.28],\n",
       "       [5.33],\n",
       "       [5.24],\n",
       "       [5.24],\n",
       "       [5.21],\n",
       "       [5.15],\n",
       "       [5.09],\n",
       "       [5.08],\n",
       "       [5.  ],\n",
       "       [4.93],\n",
       "       [5.04],\n",
       "       [5.09],\n",
       "       [5.07],\n",
       "       [4.92],\n",
       "       [5.01],\n",
       "       [5.  ],\n",
       "       [5.05],\n",
       "       [5.07],\n",
       "       [5.01],\n",
       "       [5.  ],\n",
       "       [4.98],\n",
       "       [4.85],\n",
       "       [4.7 ],\n",
       "       [4.67],\n",
       "       [4.72],\n",
       "       [4.59],\n",
       "       [4.5 ],\n",
       "       [4.56],\n",
       "       [4.68],\n",
       "       [4.59],\n",
       "       [4.52],\n",
       "       [4.46],\n",
       "       [4.4 ],\n",
       "       [4.41],\n",
       "       [4.35],\n",
       "       [4.49],\n",
       "       [4.43],\n",
       "       [4.56],\n",
       "       [4.57],\n",
       "       [4.54],\n",
       "       [4.55],\n",
       "       [4.73],\n",
       "       [4.73],\n",
       "       [4.76],\n",
       "       [4.8 ],\n",
       "       [4.71],\n",
       "       [4.7 ],\n",
       "       [4.71],\n",
       "       [4.72],\n",
       "       [4.7 ],\n",
       "       [4.69],\n",
       "       [4.82],\n",
       "       [4.83],\n",
       "       [4.87],\n",
       "       [4.79],\n",
       "       [5.03],\n",
       "       [5.01],\n",
       "       [5.09],\n",
       "       [5.13],\n",
       "       [5.1 ],\n",
       "       [5.1 ],\n",
       "       [5.09],\n",
       "       [5.09],\n",
       "       [5.18],\n",
       "       [5.22],\n",
       "       [5.42],\n",
       "       [5.36],\n",
       "       [5.46],\n",
       "       [5.46],\n",
       "       [5.48],\n",
       "       [5.5 ],\n",
       "       [5.38],\n",
       "       [5.4 ],\n",
       "       [5.45],\n",
       "       [5.44],\n",
       "       [5.47],\n",
       "       [5.47],\n",
       "       [5.56],\n",
       "       [5.5 ],\n",
       "       [5.4 ],\n",
       "       [5.48],\n",
       "       [5.55],\n",
       "       [6.28],\n",
       "       [6.49],\n",
       "       [6.52],\n",
       "       [6.63],\n",
       "       [6.69],\n",
       "       [6.66],\n",
       "       [6.58],\n",
       "       [6.67],\n",
       "       [6.81],\n",
       "       [7.17],\n",
       "       [6.86],\n",
       "       [6.94],\n",
       "       [6.87],\n",
       "       [6.77],\n",
       "       [6.85],\n",
       "       [7.37],\n",
       "       [7.7 ],\n",
       "       [7.45],\n",
       "       [7.34],\n",
       "       [7.25],\n",
       "       [7.32],\n",
       "       [7.25],\n",
       "       [7.38],\n",
       "       [7.5 ],\n",
       "       [7.42],\n",
       "       [7.54],\n",
       "       [7.54],\n",
       "       [7.37],\n",
       "       [7.4 ],\n",
       "       [7.22],\n",
       "       [7.2 ],\n",
       "       [6.94],\n",
       "       [7.2 ],\n",
       "       [7.2 ],\n",
       "       [7.24],\n",
       "       [7.34],\n",
       "       [7.38],\n",
       "       [7.4 ],\n",
       "       [7.41],\n",
       "       [7.33],\n",
       "       [7.34],\n",
       "       [7.29],\n",
       "       [7.27],\n",
       "       [7.29],\n",
       "       [7.11],\n",
       "       [7.17],\n",
       "       [7.13],\n",
       "       [7.08],\n",
       "       [6.95],\n",
       "       [7.19],\n",
       "       [7.21],\n",
       "       [7.11],\n",
       "       [7.2 ],\n",
       "       [7.16],\n",
       "       [6.73],\n",
       "       [6.51],\n",
       "       [6.27],\n",
       "       [6.14],\n",
       "       [6.3 ],\n",
       "       [6.14],\n",
       "       [6.3 ],\n",
       "       [6.39],\n",
       "       [6.34],\n",
       "       [6.27],\n",
       "       [6.26],\n",
       "       [6.34],\n",
       "       [6.4 ],\n",
       "       [6.38],\n",
       "       [6.25],\n",
       "       [6.39]])"
      ]
     },
     "execution_count": 15,
     "metadata": {},
     "output_type": "execute_result"
    }
   ],
   "source": [
    "X_forecast_raw = X_raw[-forecast_out:]\n",
    "X_raw = X_raw[:-forecast_out]"
   ]
  },
  {
   "cell_type": "code",
   "execution_count": 16,
   "id": "bd3ed211-c009-4f49-8366-f6397c2657f5",
   "metadata": {},
   "outputs": [
    {
     "data": {
      "text/plain": [
       "array([6.28173234, 6.26382957, 6.2518944 , 6.2518944 , 6.23995922,\n",
       "       6.28173234, 6.2518944 , 6.26979716, 6.29963511, 6.34737581,\n",
       "       6.34737581, 6.41301929, 6.32947305, 6.26979716, 6.23399163,\n",
       "       6.16238057, 6.18028333, 6.28769993, 6.16834815, 6.17431574,\n",
       "       6.07286674, 6.04302879, 6.00722326, 6.17431574, 6.18625092,\n",
       "       6.23399163, 6.21608886, 6.25786198, 6.24592681, 6.45777621])"
      ]
     },
     "execution_count": 16,
     "metadata": {},
     "output_type": "execute_result"
    }
   ],
   "source": [
    "clf.predict(X_forecast)"
   ]
  },
  {
   "cell_type": "code",
   "execution_count": 17,
   "id": "e61b3edb-03c4-4280-a185-96c718935a5f",
   "metadata": {},
   "outputs": [
    {
     "data": {
      "image/png": "[encoded data removed]",
      "text/plain": [
       "<Figure size 1000x600 with 1 Axes>"
      ]
     },
     "metadata": {},
     "output_type": "display_data"
    }
   ],
   "source": [
    "plt.figure(figsize=(10,6))  \n",
    "plt.plot(X_forecast_raw, color='blue', label='Actual Stock Price')  \n",
    "plt.plot(forecast_prediction , color='red', label='Predicted Stock Price')  \n",
    "plt.title('Stock Price Prediction')  \n",
    "plt.xlabel('Date')  \n",
    "plt.ylabel('Stock Price')  \n",
    "plt.legend()  \n",
    "plt.show()  "
   ]
  },
  {
   "cell_type": "code",
   "execution_count": null,
   "id": "bfec7786-c7ba-41ab-bb30-ce2ec6061774",
   "metadata": {},
   "outputs": [],
   "source": []
  },
  {
   "cell_type": "code",
   "execution_count": null,
   "id": "e2039e05-32c2-4a16-b020-3b22062247dd",
   "metadata": {},
   "outputs": [],
   "source": []
  }
 ],
 "metadata": {
  "kernelspec": {
   "display_name": "Python 3 (ipykernel)",
   "language": "python",
   "name": "python3"
  },
  "language_info": {
   "codemirror_mode": {
    "name": "ipython",
    "version": 3
   },
   "file_extension": ".py",
   "mimetype": "text/x-python",
   "name": "python",
   "nbconvert_exporter": "python",
   "pygments_lexer": "ipython3",
   "version": "3.9.13"
  }
 },
 "nbformat": 4,
 "nbformat_minor": 5
}
